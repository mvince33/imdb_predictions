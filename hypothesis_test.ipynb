{
 "cells": [
  {
   "cell_type": "markdown",
   "id": "59d18a9d",
   "metadata": {},
   "source": [
    "# Project 3 Part 4\n",
    "- Michael Vincent\n",
    "- 10/5"
   ]
  },
  {
   "cell_type": "markdown",
   "id": "26dbdbbb",
   "metadata": {
    "heading_collapsed": true
   },
   "source": [
    "## Imports"
   ]
  },
  {
   "cell_type": "code",
   "execution_count": 1,
   "id": "5f553d11",
   "metadata": {
    "hidden": true
   },
   "outputs": [],
   "source": [
    "# Imports\n",
    "import numpy as np\n",
    "import pandas as pd\n",
    "import glob\n",
    "import scipy.stats as stats\n",
    "import matplotlib.pyplot as plt\n",
    "import seaborn as sns\n",
    "from statsmodels.stats.multicomp import pairwise_tukeyhsd"
   ]
  },
  {
   "cell_type": "markdown",
   "id": "d9119986",
   "metadata": {
    "heading_collapsed": true
   },
   "source": [
    "## Load the data"
   ]
  },
  {
   "cell_type": "code",
   "execution_count": 2,
   "id": "f74c91a0",
   "metadata": {
    "hidden": true
   },
   "outputs": [],
   "source": [
    "# Load the data using glob\n",
    "\n",
    "# Get the filenames\n",
    "q = 'Data/final_tmdb_data_*.csv.gz'\n",
    "chunked_files = glob.glob(q)\n",
    "\n",
    "# Load the files\n",
    "df_list = []\n",
    "for file in chunked_files:\n",
    "    temp_df = pd.read_csv(file, engine = 'python')\n",
    "    df_list.append(temp_df)\n",
    "\n",
    "# Combine the files into one data frame    \n",
    "df = pd.concat(df_list)\n",
    "df.head()\n",
    "\n",
    "# Save the combined data frame\n",
    "df.to_csv('Data/tmdb_results_combined.csv.gz',\n",
    "          compression = 'gzip')"
   ]
  },
  {
   "cell_type": "code",
   "execution_count": 3,
   "id": "78e5c7c2",
   "metadata": {
    "hidden": true
   },
   "outputs": [
    {
     "data": {
      "text/html": [
       "<div>\n",
       "<style scoped>\n",
       "    .dataframe tbody tr th:only-of-type {\n",
       "        vertical-align: middle;\n",
       "    }\n",
       "\n",
       "    .dataframe tbody tr th {\n",
       "        vertical-align: top;\n",
       "    }\n",
       "\n",
       "    .dataframe thead th {\n",
       "        text-align: right;\n",
       "    }\n",
       "</style>\n",
       "<table border=\"1\" class=\"dataframe\">\n",
       "  <thead>\n",
       "    <tr style=\"text-align: right;\">\n",
       "      <th></th>\n",
       "      <th>imdb_id</th>\n",
       "      <th>budget</th>\n",
       "      <th>revenue</th>\n",
       "      <th>certification</th>\n",
       "    </tr>\n",
       "  </thead>\n",
       "  <tbody>\n",
       "    <tr>\n",
       "      <th>1</th>\n",
       "      <td>tt0062336</td>\n",
       "      <td>0.0</td>\n",
       "      <td>0.0</td>\n",
       "      <td>NaN</td>\n",
       "    </tr>\n",
       "    <tr>\n",
       "      <th>2</th>\n",
       "      <td>tt0805647</td>\n",
       "      <td>0.0</td>\n",
       "      <td>26900000.0</td>\n",
       "      <td>PG</td>\n",
       "    </tr>\n",
       "    <tr>\n",
       "      <th>3</th>\n",
       "      <td>tt0920462</td>\n",
       "      <td>0.0</td>\n",
       "      <td>106045.0</td>\n",
       "      <td>R</td>\n",
       "    </tr>\n",
       "    <tr>\n",
       "      <th>4</th>\n",
       "      <td>tt0926132</td>\n",
       "      <td>0.0</td>\n",
       "      <td>0.0</td>\n",
       "      <td>NaN</td>\n",
       "    </tr>\n",
       "    <tr>\n",
       "      <th>5</th>\n",
       "      <td>tt0983946</td>\n",
       "      <td>7000000.0</td>\n",
       "      <td>47078545.0</td>\n",
       "      <td>PG-13</td>\n",
       "    </tr>\n",
       "  </tbody>\n",
       "</table>\n",
       "</div>"
      ],
      "text/plain": [
       "     imdb_id     budget     revenue certification\n",
       "1  tt0062336        0.0         0.0           NaN\n",
       "2  tt0805647        0.0  26900000.0            PG\n",
       "3  tt0920462        0.0    106045.0             R\n",
       "4  tt0926132        0.0         0.0           NaN\n",
       "5  tt0983946  7000000.0  47078545.0         PG-13"
      ]
     },
     "execution_count": 3,
     "metadata": {},
     "output_type": "execute_result"
    }
   ],
   "source": [
    "# Get the columns of interest\n",
    "df = df[['imdb_id', 'budget', 'revenue', 'certification']]\n",
    "\n",
    "# Drop the first row\n",
    "df.drop(0, inplace = True)\n",
    "df.head()"
   ]
  },
  {
   "cell_type": "code",
   "execution_count": 4,
   "id": "f4ec4b25",
   "metadata": {
    "hidden": true
   },
   "outputs": [
    {
     "data": {
      "text/html": [
       "<div>\n",
       "<style scoped>\n",
       "    .dataframe tbody tr th:only-of-type {\n",
       "        vertical-align: middle;\n",
       "    }\n",
       "\n",
       "    .dataframe tbody tr th {\n",
       "        vertical-align: top;\n",
       "    }\n",
       "\n",
       "    .dataframe thead th {\n",
       "        text-align: right;\n",
       "    }\n",
       "</style>\n",
       "<table border=\"1\" class=\"dataframe\">\n",
       "  <thead>\n",
       "    <tr style=\"text-align: right;\">\n",
       "      <th></th>\n",
       "      <th>imdb_id</th>\n",
       "      <th>budget</th>\n",
       "      <th>revenue</th>\n",
       "      <th>certification</th>\n",
       "    </tr>\n",
       "  </thead>\n",
       "  <tbody>\n",
       "    <tr>\n",
       "      <th>2</th>\n",
       "      <td>tt0805647</td>\n",
       "      <td>0.0</td>\n",
       "      <td>26900000.0</td>\n",
       "      <td>PG</td>\n",
       "    </tr>\n",
       "    <tr>\n",
       "      <th>3</th>\n",
       "      <td>tt0920462</td>\n",
       "      <td>0.0</td>\n",
       "      <td>106045.0</td>\n",
       "      <td>R</td>\n",
       "    </tr>\n",
       "    <tr>\n",
       "      <th>5</th>\n",
       "      <td>tt0983946</td>\n",
       "      <td>7000000.0</td>\n",
       "      <td>47078545.0</td>\n",
       "      <td>PG-13</td>\n",
       "    </tr>\n",
       "    <tr>\n",
       "      <th>6</th>\n",
       "      <td>tt10003008</td>\n",
       "      <td>0.0</td>\n",
       "      <td>4296804.0</td>\n",
       "      <td>R</td>\n",
       "    </tr>\n",
       "    <tr>\n",
       "      <th>9</th>\n",
       "      <td>tt10004108</td>\n",
       "      <td>0.0</td>\n",
       "      <td>0.0</td>\n",
       "      <td>R</td>\n",
       "    </tr>\n",
       "  </tbody>\n",
       "</table>\n",
       "</div>"
      ],
      "text/plain": [
       "      imdb_id     budget     revenue certification\n",
       "2   tt0805647        0.0  26900000.0            PG\n",
       "3   tt0920462        0.0    106045.0             R\n",
       "5   tt0983946  7000000.0  47078545.0         PG-13\n",
       "6  tt10003008        0.0   4296804.0             R\n",
       "9  tt10004108        0.0         0.0             R"
      ]
     },
     "execution_count": 4,
     "metadata": {},
     "output_type": "execute_result"
    }
   ],
   "source": [
    "# Drop the null values\n",
    "df.dropna(inplace = True)\n",
    "df.head()"
   ]
  },
  {
   "cell_type": "code",
   "execution_count": 5,
   "id": "ce29e05a",
   "metadata": {
    "hidden": true
   },
   "outputs": [
    {
     "data": {
      "text/plain": [
       "array(['PG', 'R', 'PG-13', 'NR', 'NC-17', 'G', 'Not Rated', 'UR',\n",
       "       'Unrated', 'PG-13 ', '10', 'R ', 'ScreamFest Horror Film Festival',\n",
       "       '-'], dtype=object)"
      ]
     },
     "execution_count": 5,
     "metadata": {},
     "output_type": "execute_result"
    }
   ],
   "source": [
    "# Check the values in the certification column\n",
    "df['certification'].unique()"
   ]
  },
  {
   "cell_type": "markdown",
   "id": "84ad636a",
   "metadata": {
    "hidden": true
   },
   "source": [
    "> We see some ratings have an extra space."
   ]
  },
  {
   "cell_type": "code",
   "execution_count": 6,
   "id": "55233cd6",
   "metadata": {
    "hidden": true
   },
   "outputs": [
    {
     "data": {
      "text/plain": [
       "array(['PG', 'R', 'PG-13', 'NR', 'NC-17', 'G', 'Unrated', '10',\n",
       "       'ScreamFest Horror Film Festival', '-'], dtype=object)"
      ]
     },
     "execution_count": 6,
     "metadata": {},
     "output_type": "execute_result"
    }
   ],
   "source": [
    "# Get rid of the space in the ratings of R and PG-13. While it's not necessary\n",
    "# for this project, we will replace 'UR' and 'Not Rated' with Unrated. \n",
    "df['certification'].replace({'PG-13 ': 'PG-13', \n",
    "                             'R ': 'R',\n",
    "                             'UR': 'Unrated',\n",
    "                             'Not Rated': 'Unrated'}, \n",
    "                            inplace = True)\n",
    "\n",
    "# Make sure the changes were made\n",
    "df['certification'].unique()"
   ]
  },
  {
   "cell_type": "markdown",
   "id": "4046e435",
   "metadata": {
    "heading_collapsed": true
   },
   "source": [
    "## Hypothesis Test: Do ratings have a significant effect on revenue?"
   ]
  },
  {
   "cell_type": "markdown",
   "id": "4d82bdd5",
   "metadata": {
    "hidden": true
   },
   "source": [
    "**State the Null and Alternative Hypotheses**\n",
    "\n",
    "$H_0$: The rating of a movie does not affect its revenue.\n",
    "\n",
    "$H_1$: The rating of a movie has a significant effect on its revenue.\n",
    "\n",
    "> We are comparing the mean revenue of more than two groups so we will use an ANOVA test."
   ]
  },
  {
   "cell_type": "code",
   "execution_count": 7,
   "id": "282700f5",
   "metadata": {
    "hidden": true
   },
   "outputs": [],
   "source": [
    "# Get the revenues of the movies with ratings G, PG, PG-13, and R\n",
    "g_movie_rev = df.loc[df['certification'] == 'G', 'revenue']\n",
    "pg_movie_rev = df.loc[df['certification'] == 'PG', 'revenue']\n",
    "pg13_movie_rev = df.loc[df['certification'] == 'PG-13', 'revenue']\n",
    "r_movie_rev = df.loc[df['certification'] == 'R', 'revenue']"
   ]
  },
  {
   "cell_type": "code",
   "execution_count": 8,
   "id": "7b85c411",
   "metadata": {
    "hidden": true
   },
   "outputs": [
    {
     "name": "stdout",
     "output_type": "stream",
     "text": [
      "447 1451 3253 6244\n"
     ]
    }
   ],
   "source": [
    "# Remove any outliers from the groups\n",
    "g_movie_rev = g_movie_rev[abs(stats.zscore(g_movie_rev)) <= 3]\n",
    "pg_movie_rev = pg_movie_rev[abs(stats.zscore(pg_movie_rev)) <= 3]\n",
    "pg13_movie_rev = pg13_movie_rev[abs(stats.zscore(pg13_movie_rev)) <= 3]\n",
    "r_movie_rev = r_movie_rev[abs(stats.zscore(r_movie_rev)) <= 3]\n",
    "print(len(g_movie_rev),\n",
    "      len(pg_movie_rev),\n",
    "      len(pg13_movie_rev),\n",
    "      len(r_movie_rev))"
   ]
  },
  {
   "cell_type": "markdown",
   "id": "c5c4ae4f",
   "metadata": {
    "hidden": true
   },
   "source": [
    "> The sample sizes of each group are large enough that we may forgo the normality test"
   ]
  },
  {
   "cell_type": "code",
   "execution_count": 9,
   "id": "56f93597",
   "metadata": {
    "hidden": true
   },
   "outputs": [
    {
     "data": {
      "text/plain": [
       "LeveneResult(statistic=258.1783756187162, pvalue=4.129948362335215e-162)"
      ]
     },
     "execution_count": 9,
     "metadata": {},
     "output_type": "execute_result"
    }
   ],
   "source": [
    "# Test the groups for equal variance\n",
    "stats.levene(g_movie_rev,\n",
    "             pg_movie_rev,\n",
    "             pg13_movie_rev,\n",
    "             r_movie_rev)"
   ]
  },
  {
   "cell_type": "markdown",
   "id": "a8199bc8",
   "metadata": {
    "hidden": true
   },
   "source": [
    "> The $p$-value is less than our $\\alpha$ of 0.05 so we reject the null-hypothesis that the groups have the same variance and assume they do *not* have the same variance so we use the Kruskal-Wallis test."
   ]
  },
  {
   "cell_type": "code",
   "execution_count": 10,
   "id": "f77df316",
   "metadata": {
    "hidden": true
   },
   "outputs": [
    {
     "data": {
      "text/plain": [
       "KruskalResult(statistic=458.444710214375, pvalue=4.825294601401865e-99)"
      ]
     },
     "execution_count": 10,
     "metadata": {},
     "output_type": "execute_result"
    }
   ],
   "source": [
    "# Perform the hypothesis test\n",
    "stats.kruskal(g_movie_rev,\n",
    "              pg_movie_rev,\n",
    "              pg13_movie_rev,\n",
    "              r_movie_rev)"
   ]
  },
  {
   "cell_type": "markdown",
   "id": "215425f8",
   "metadata": {
    "hidden": true
   },
   "source": [
    "> Our $p$-value of $4.8 \\times 10^{-99}$ is less than the given $\\alpha$ of 0.05 so we reject the null hypothesis. That is, our data supports the claim that the rating of a film has a significant effect on its revenue."
   ]
  },
  {
   "cell_type": "code",
   "execution_count": 11,
   "id": "a4eb41e6",
   "metadata": {
    "hidden": true
   },
   "outputs": [
    {
     "data": {
      "text/html": [
       "<table class=\"simpletable\">\n",
       "<caption>Multiple Comparison of Means - Tukey HSD, FWER=0.05</caption>\n",
       "<tr>\n",
       "  <th>group1</th> <th>group2</th>    <th>meandiff</th>     <th>p-adj</th>      <th>lower</th>          <th>upper</th>     <th>reject</th>\n",
       "</tr>\n",
       "<tr>\n",
       "     <td>G</td>     <td>PG</td>    <td>33172285.8938</td>   <td>0.0</td>   <td>15247122.5829</td>  <td>51097449.2047</td>  <td>True</td> \n",
       "</tr>\n",
       "<tr>\n",
       "     <td>G</td>    <td>PG-13</td>  <td>38397468.8585</td>   <td>0.0</td>   <td>21676053.4135</td>  <td>55118884.3036</td>  <td>True</td> \n",
       "</tr>\n",
       "<tr>\n",
       "     <td>G</td>      <td>R</td>   <td>-18022092.9071</td> <td>0.0226</td> <td>-34258640.7753</td>  <td>-1785545.039</td>   <td>True</td> \n",
       "</tr>\n",
       "<tr>\n",
       "    <td>PG</td>    <td>PG-13</td>  <td>5225182.9647</td>  <td>0.5718</td>  <td>-5213973.3767</td>  <td>15664339.3062</td>  <td>False</td>\n",
       "</tr>\n",
       "<tr>\n",
       "    <td>PG</td>      <td>R</td>   <td>-51194378.8009</td>   <td>0.0</td>  <td>-60837808.5491</td> <td>-41550949.0528</td>  <td>True</td> \n",
       "</tr>\n",
       "<tr>\n",
       "   <td>PG-13</td>    <td>R</td>   <td>-56419561.7657</td>   <td>0.0</td>   <td>-63581264.92</td>  <td>-49257858.6113</td>  <td>True</td> \n",
       "</tr>\n",
       "</table>"
      ],
      "text/plain": [
       "<class 'statsmodels.iolib.table.SimpleTable'>"
      ]
     },
     "execution_count": 11,
     "metadata": {},
     "output_type": "execute_result"
    }
   ],
   "source": [
    "# Perform a pairwise Tukey test\n",
    "\n",
    "# Get a data frame with only g, pg, pg-13, and r ratings\n",
    "filter = (df['certification'] == 'G') | (df['certification'] == 'PG') |\\\n",
    "(df['certification'] == 'PG-13') | (df['certification'] == 'R')\n",
    "filtered_df = df.loc[filter, ['revenue', 'certification']]\n",
    "\n",
    "# Set the values and labels\n",
    "values = filtered_df['revenue']\n",
    "labels = filtered_df['certification']\n",
    "\n",
    "# Perform the test\n",
    "results = pairwise_tukeyhsd(values, labels)\n",
    "results.summary()"
   ]
  },
  {
   "cell_type": "markdown",
   "id": "b01f9655",
   "metadata": {
    "hidden": true
   },
   "source": [
    "> We see from the above that the only ratings without a significant difference are PG and PG-13."
   ]
  },
  {
   "cell_type": "code",
   "execution_count": 12,
   "id": "853d67fa",
   "metadata": {
    "hidden": true
   },
   "outputs": [
    {
     "data": {
      "image/png": "[encoded data removed]",
      "text/plain": [
       "<Figure size 640x480 with 1 Axes>"
      ]
     },
     "metadata": {},
     "output_type": "display_data"
    }
   ],
   "source": [
    "# Make a visualization illustrating the result.\n",
    "sns.barplot(data = filtered_df, x = 'certification', y = 'revenue');\n",
    "plt.title('Average Revenue By Rating');"
   ]
  },
  {
   "cell_type": "markdown",
   "id": "19f582c9",
   "metadata": {
    "hidden": true
   },
   "source": [
    "> We see that movies with a rating of PG-13 have the most revenue, with the rating of PG coming in at a close second. We are surprised that R rated movies did so poorly. We understand that movies rated PG and PG-13 will reach a larger audience, but we still expected R rated movies to do better. Since we expect R rated movies to reach a larger audience than G rated movies, we would recommend a deeper dive into the data to see if there is something that we may be missing."
   ]
  },
  {
   "cell_type": "markdown",
   "id": "2b7bf8be",
   "metadata": {
    "heading_collapsed": true
   },
   "source": [
    "## Hypothesis Test: Do movies released in 2020 earn less revenue than movies released in 2018."
   ]
  },
  {
   "cell_type": "markdown",
   "id": "bf5fb7f2",
   "metadata": {
    "hidden": true
   },
   "source": [
    "**Null and Alternative Hypotheses**\n",
    "\n",
    "$H_0$: Movies released in 2020 earned the same revenue as movies released in 2018\n",
    "\n",
    "$H_1$: There is a significant difference in revenue between movies released in 2020 than movies released in 2018.\n",
    "\n",
    "> We are comparing the means of two groups so we will use a two-sample $t$-test."
   ]
  },
  {
   "cell_type": "code",
   "execution_count": 13,
   "id": "4951975b",
   "metadata": {
    "hidden": true
   },
   "outputs": [
    {
     "data": {
      "text/html": [
       "<div>\n",
       "<style scoped>\n",
       "    .dataframe tbody tr th:only-of-type {\n",
       "        vertical-align: middle;\n",
       "    }\n",
       "\n",
       "    .dataframe tbody tr th {\n",
       "        vertical-align: top;\n",
       "    }\n",
       "\n",
       "    .dataframe thead th {\n",
       "        text-align: right;\n",
       "    }\n",
       "</style>\n",
       "<table border=\"1\" class=\"dataframe\">\n",
       "  <thead>\n",
       "    <tr style=\"text-align: right;\">\n",
       "      <th></th>\n",
       "      <th>tconst</th>\n",
       "      <th>titleType</th>\n",
       "      <th>primaryTitle</th>\n",
       "      <th>originalTitle</th>\n",
       "      <th>isAdult</th>\n",
       "      <th>startYear</th>\n",
       "      <th>endYear</th>\n",
       "      <th>runtimeMinutes</th>\n",
       "      <th>genres</th>\n",
       "      <th>imdb_id</th>\n",
       "      <th>budget</th>\n",
       "      <th>revenue</th>\n",
       "      <th>certification</th>\n",
       "    </tr>\n",
       "  </thead>\n",
       "  <tbody>\n",
       "    <tr>\n",
       "      <th>0</th>\n",
       "      <td>tt0035423</td>\n",
       "      <td>movie</td>\n",
       "      <td>Kate &amp; Leopold</td>\n",
       "      <td>Kate &amp; Leopold</td>\n",
       "      <td>0</td>\n",
       "      <td>2001</td>\n",
       "      <td>NaN</td>\n",
       "      <td>118</td>\n",
       "      <td>Comedy,Fantasy,Romance</td>\n",
       "      <td>tt0035423</td>\n",
       "      <td>48000000.0</td>\n",
       "      <td>76019048.0</td>\n",
       "      <td>PG-13</td>\n",
       "    </tr>\n",
       "    <tr>\n",
       "      <th>1</th>\n",
       "      <td>tt0069049</td>\n",
       "      <td>movie</td>\n",
       "      <td>The Other Side of the Wind</td>\n",
       "      <td>The Other Side of the Wind</td>\n",
       "      <td>0</td>\n",
       "      <td>2018</td>\n",
       "      <td>NaN</td>\n",
       "      <td>122</td>\n",
       "      <td>Drama</td>\n",
       "      <td>tt0069049</td>\n",
       "      <td>12000000.0</td>\n",
       "      <td>0.0</td>\n",
       "      <td>R</td>\n",
       "    </tr>\n",
       "    <tr>\n",
       "      <th>2</th>\n",
       "      <td>tt0116991</td>\n",
       "      <td>movie</td>\n",
       "      <td>Mariette in Ecstasy</td>\n",
       "      <td>Mariette in Ecstasy</td>\n",
       "      <td>0</td>\n",
       "      <td>2009</td>\n",
       "      <td>NaN</td>\n",
       "      <td>101</td>\n",
       "      <td>Drama</td>\n",
       "      <td>tt0116991</td>\n",
       "      <td>0.0</td>\n",
       "      <td>0.0</td>\n",
       "      <td>PG-13</td>\n",
       "    </tr>\n",
       "    <tr>\n",
       "      <th>3</th>\n",
       "      <td>tt0118141</td>\n",
       "      <td>movie</td>\n",
       "      <td>What Is It?</td>\n",
       "      <td>What Is It?</td>\n",
       "      <td>0</td>\n",
       "      <td>2005</td>\n",
       "      <td>NaN</td>\n",
       "      <td>72</td>\n",
       "      <td>Drama</td>\n",
       "      <td>tt0118141</td>\n",
       "      <td>0.0</td>\n",
       "      <td>0.0</td>\n",
       "      <td>NC-17</td>\n",
       "    </tr>\n",
       "    <tr>\n",
       "      <th>4</th>\n",
       "      <td>tt0118589</td>\n",
       "      <td>movie</td>\n",
       "      <td>Glitter</td>\n",
       "      <td>Glitter</td>\n",
       "      <td>0</td>\n",
       "      <td>2001</td>\n",
       "      <td>NaN</td>\n",
       "      <td>104</td>\n",
       "      <td>Drama,Music,Romance</td>\n",
       "      <td>tt0118589</td>\n",
       "      <td>22000000.0</td>\n",
       "      <td>5271666.0</td>\n",
       "      <td>PG-13</td>\n",
       "    </tr>\n",
       "  </tbody>\n",
       "</table>\n",
       "</div>"
      ],
      "text/plain": [
       "      tconst titleType                primaryTitle  \\\n",
       "0  tt0035423     movie              Kate & Leopold   \n",
       "1  tt0069049     movie  The Other Side of the Wind   \n",
       "2  tt0116991     movie         Mariette in Ecstasy   \n",
       "3  tt0118141     movie                 What Is It?   \n",
       "4  tt0118589     movie                     Glitter   \n",
       "\n",
       "                originalTitle  isAdult  startYear  endYear  runtimeMinutes  \\\n",
       "0              Kate & Leopold        0       2001      NaN             118   \n",
       "1  The Other Side of the Wind        0       2018      NaN             122   \n",
       "2         Mariette in Ecstasy        0       2009      NaN             101   \n",
       "3                 What Is It?        0       2005      NaN              72   \n",
       "4                     Glitter        0       2001      NaN             104   \n",
       "\n",
       "                   genres    imdb_id      budget     revenue certification  \n",
       "0  Comedy,Fantasy,Romance  tt0035423  48000000.0  76019048.0         PG-13  \n",
       "1                   Drama  tt0069049  12000000.0         0.0             R  \n",
       "2                   Drama  tt0116991         0.0         0.0         PG-13  \n",
       "3                   Drama  tt0118141         0.0         0.0         NC-17  \n",
       "4     Drama,Music,Romance  tt0118589  22000000.0   5271666.0         PG-13  "
      ]
     },
     "execution_count": 13,
     "metadata": {},
     "output_type": "execute_result"
    }
   ],
   "source": [
    "# Load the data frame with the year information\n",
    "basics = pd.read_csv('Data/title_basics.csv.gz')\n",
    "\n",
    "# Join the two data frames\n",
    "joined_data = basics.merge(df, left_on = 'tconst', right_on = 'imdb_id')\n",
    "joined_data.head()"
   ]
  },
  {
   "cell_type": "code",
   "execution_count": 14,
   "id": "9240afb1",
   "metadata": {
    "hidden": true
   },
   "outputs": [],
   "source": [
    "# Get the two groups\n",
    "movies_2020 = joined_data.loc[joined_data['startYear'] == 2020, 'revenue']\n",
    "movies_2018 = joined_data.loc[joined_data['startYear'] == 2018, 'revenue']"
   ]
  },
  {
   "cell_type": "code",
   "execution_count": 15,
   "id": "e8946f2a",
   "metadata": {
    "hidden": true
   },
   "outputs": [],
   "source": [
    "# Remove any outliers\n",
    "movies_2020 = movies_2020[abs(stats.zscore(movies_2020)) <= 3]\n",
    "movies_2018 = movies_2018[abs(stats.zscore(movies_2018)) <= 3]"
   ]
  },
  {
   "cell_type": "code",
   "execution_count": 16,
   "id": "4cda8a1c",
   "metadata": {
    "hidden": true
   },
   "outputs": [
    {
     "name": "stdout",
     "output_type": "stream",
     "text": [
      "692 810\n"
     ]
    }
   ],
   "source": [
    "# Check the length of each group\n",
    "print(len(movies_2020), len(movies_2018))"
   ]
  },
  {
   "cell_type": "markdown",
   "id": "ca9b046a",
   "metadata": {
    "hidden": true
   },
   "source": [
    "> The groups each have more than 15 data points so we can forgo the test for normality."
   ]
  },
  {
   "cell_type": "code",
   "execution_count": 17,
   "id": "c1ab0f82",
   "metadata": {
    "hidden": true
   },
   "outputs": [
    {
     "data": {
      "text/plain": [
       "LeveneResult(statistic=34.73948448666277, pvalue=4.6470486065042775e-09)"
      ]
     },
     "execution_count": 17,
     "metadata": {},
     "output_type": "execute_result"
    }
   ],
   "source": [
    "# Check for equal variance\n",
    "stats.levene(movies_2020, movies_2018)"
   ]
  },
  {
   "cell_type": "markdown",
   "id": "001e9ca2",
   "metadata": {
    "hidden": true
   },
   "source": [
    "> The $p$-value is less than our $\\alpha$ of 0.05 so we reject the null hypothesis and assume the groups have different variances."
   ]
  },
  {
   "cell_type": "code",
   "execution_count": 18,
   "id": "4fe0ad6f",
   "metadata": {
    "hidden": true
   },
   "outputs": [
    {
     "data": {
      "text/plain": [
       "Ttest_indResult(statistic=-6.351619758556268, pvalue=3.4522036581056426e-10)"
      ]
     },
     "execution_count": 18,
     "metadata": {},
     "output_type": "execute_result"
    }
   ],
   "source": [
    "# Perform the hypothesis test\n",
    "stats.ttest_ind(movies_2020, movies_2018, equal_var = False)"
   ]
  },
  {
   "cell_type": "markdown",
   "id": "ba1e1ab3",
   "metadata": {
    "hidden": true
   },
   "source": [
    "> Our $p$-value of $3.5 \\times 10^{-10}$ is less than the given $\\alpha$ of 0.05 so we reject the null hypothesis. That is, the data supports the claim that movies made in 2020 and 2018 have significantly different revenues."
   ]
  },
  {
   "cell_type": "code",
   "execution_count": 19,
   "id": "c9c86af8",
   "metadata": {
    "hidden": true
   },
   "outputs": [
    {
     "data": {
      "image/png": "[encoded data removed]",
      "text/plain": [
       "<Figure size 640x480 with 1 Axes>"
      ]
     },
     "metadata": {},
     "output_type": "display_data"
    }
   ],
   "source": [
    "# Construct a visualization illustrating the result\n",
    "viz_df = joined_data[(joined_data['startYear'] == 2020) |\n",
    "                     (joined_data['startYear'] == 2018)]\n",
    "sns.barplot(data = viz_df, x = 'startYear', y = 'revenue');"
   ]
  },
  {
   "cell_type": "markdown",
   "id": "0530dd62",
   "metadata": {
    "hidden": true
   },
   "source": [
    "> The above graph shows movies made in 2018 had more revenue than movies made in 2020. (It is not difficult to guess why this might be the case.)"
   ]
  },
  {
   "cell_type": "markdown",
   "id": "f57596b3",
   "metadata": {
    "heading_collapsed": true
   },
   "source": [
    "## Hypothesis Test: Do movies longer than 2.5 hours have a significant difference in revenue than movies less than 1.5 hours."
   ]
  },
  {
   "cell_type": "markdown",
   "id": "83680949",
   "metadata": {
    "hidden": true
   },
   "source": [
    "**Null and Alternative Hypotheses**\n",
    "\n",
    "$H_0$: Movies longer than 2.5 hours and movies less than 1.5 hours earn the same amount of revenue.\n",
    "\n",
    "$H_1$: Movies longer than 2.5 hours and movies less than 1.5 hours have a significant difference in revenue.\n",
    "\n",
    "> We are comparing means of two groups so we use a 2-sample $t$-test."
   ]
  },
  {
   "cell_type": "code",
   "execution_count": 20,
   "id": "0e56a409",
   "metadata": {
    "hidden": true
   },
   "outputs": [],
   "source": [
    "# Get the two groups\n",
    "long_movies = joined_data.loc[joined_data['runtimeMinutes'] > 150, 'revenue']\n",
    "short_movies = joined_data.loc[joined_data['runtimeMinutes'] < 90, 'revenue']"
   ]
  },
  {
   "cell_type": "code",
   "execution_count": 21,
   "id": "d60e9b42",
   "metadata": {
    "hidden": true
   },
   "outputs": [],
   "source": [
    "# Remove any outliers\n",
    "long_movies = long_movies[abs(stats.zscore(long_movies)) <= 3]\n",
    "short_movies = short_movies[abs(stats.zscore(short_movies)) <= 3]"
   ]
  },
  {
   "cell_type": "code",
   "execution_count": 22,
   "id": "76b6c259",
   "metadata": {
    "hidden": true
   },
   "outputs": [
    {
     "name": "stdout",
     "output_type": "stream",
     "text": [
      "205 4256\n"
     ]
    }
   ],
   "source": [
    "# Check the number of data points\n",
    "print(len(long_movies), len(short_movies))"
   ]
  },
  {
   "cell_type": "markdown",
   "id": "1c892e4a",
   "metadata": {
    "hidden": true
   },
   "source": [
    "> We have enough data points to skip the test for normality."
   ]
  },
  {
   "cell_type": "code",
   "execution_count": 23,
   "id": "791c4ae7",
   "metadata": {
    "hidden": true
   },
   "outputs": [
    {
     "data": {
      "text/plain": [
       "LeveneResult(statistic=1318.7138067595392, pvalue=3.448708224882196e-253)"
      ]
     },
     "execution_count": 23,
     "metadata": {},
     "output_type": "execute_result"
    }
   ],
   "source": [
    "# Check for equal variance\n",
    "stats.levene(long_movies, short_movies)"
   ]
  },
  {
   "cell_type": "markdown",
   "id": "d72071ff",
   "metadata": {
    "hidden": true
   },
   "source": [
    "> Our $p$-value is less than 0.05, so we do not have equal variance."
   ]
  },
  {
   "cell_type": "code",
   "execution_count": 24,
   "id": "c70df3d3",
   "metadata": {
    "hidden": true
   },
   "outputs": [
    {
     "data": {
      "text/plain": [
       "Ttest_indResult(statistic=35.98299138326277, pvalue=3.6369639004870885e-249)"
      ]
     },
     "execution_count": 24,
     "metadata": {},
     "output_type": "execute_result"
    }
   ],
   "source": [
    "# Perform the hypothesis test\n",
    "stats.ttest_ind(long_movies, short_movies)"
   ]
  },
  {
   "cell_type": "markdown",
   "id": "b3ae7b69",
   "metadata": {
    "hidden": true
   },
   "source": [
    "> Our $p$-value of $3.6 \\times 10^{-249}$ is less than the given $\\alpha$ of 0.05 so we reject the null hypothesis. That is, our data supports the claim that there is a significant difference in revenue for longer movies versus shorter movies."
   ]
  },
  {
   "cell_type": "code",
   "execution_count": 25,
   "id": "382ea163",
   "metadata": {
    "hidden": true
   },
   "outputs": [],
   "source": [
    "# Make a data frame for a visualization.\n",
    "def check_length(n):\n",
    "    if n > 150:\n",
    "        return 'long'\n",
    "    if n < 90:\n",
    "        return 'short'\n",
    "\n",
    "viz_df = joined_data.copy()\n",
    "viz_df['movie_length'] = viz_df['runtimeMinutes'].apply(check_length)"
   ]
  },
  {
   "cell_type": "code",
   "execution_count": 26,
   "id": "f7143769",
   "metadata": {
    "hidden": true
   },
   "outputs": [
    {
     "data": {
      "image/png": "[encoded data removed]",
      "text/plain": [
       "<Figure size 640x480 with 1 Axes>"
      ]
     },
     "metadata": {},
     "output_type": "display_data"
    }
   ],
   "source": [
    "# Construct the visualization illustrating the result.\n",
    "sns.barplot(data = viz_df, x = 'movie_length', y = 'revenue');"
   ]
  },
  {
   "cell_type": "markdown",
   "id": "7fb5ba4f",
   "metadata": {
    "hidden": true
   },
   "source": [
    "> We see that longer movies tend to earn more revenue than shorter movies."
   ]
  }
 ],
 "metadata": {
  "kernelspec": {
   "display_name": "Python (dojo-env)",
   "language": "python",
   "name": "dojo-env"
  },
  "language_info": {
   "codemirror_mode": {
    "name": "ipython",
    "version": 3
   },
   "file_extension": ".py",
   "mimetype": "text/x-python",
   "name": "python",
   "nbconvert_exporter": "python",
   "pygments_lexer": "ipython3",
   "version": "3.8.13"
  },
  "toc": {
   "base_numbering": 1,
   "nav_menu": {},
   "number_sections": false,
   "sideBar": true,
   "skip_h1_title": false,
   "title_cell": "Table of Contents",
   "title_sidebar": "Contents",
   "toc_cell": false,
   "toc_position": {},
   "toc_section_display": true,
   "toc_window_display": false
  }
 },
 "nbformat": 4,
 "nbformat_minor": 5
}
