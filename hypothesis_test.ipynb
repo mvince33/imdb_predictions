{
 "cells": [
  {
   "cell_type": "markdown",
   "id": "59d18a9d",
   "metadata": {},
   "source": [
    "# Project 3 Part 4\n",
    "- Michael Vincent\n",
    "- 10/5"
   ]
  },
  {
   "cell_type": "markdown",
   "id": "26dbdbbb",
   "metadata": {
    "heading_collapsed": true
   },
   "source": [
    "## Imports"
   ]
  },
  {
   "cell_type": "code",
   "execution_count": 73,
   "id": "5f553d11",
   "metadata": {
    "hidden": true
   },
   "outputs": [],
   "source": [
    "# Imports\n",
    "import numpy as np\n",
    "import pandas as pd\n",
    "import glob\n",
    "import scipy.stats as stats\n",
    "import matplotlib.pyplot as plt\n",
    "import seaborn as sns"
   ]
  },
  {
   "cell_type": "markdown",
   "id": "d9119986",
   "metadata": {
    "heading_collapsed": true
   },
   "source": [
    "## Load the data"
   ]
  },
  {
   "cell_type": "code",
   "execution_count": 2,
   "id": "f74c91a0",
   "metadata": {
    "hidden": true
   },
   "outputs": [
    {
     "data": {
      "text/html": [
       "<div>\n",
       "<style scoped>\n",
       "    .dataframe tbody tr th:only-of-type {\n",
       "        vertical-align: middle;\n",
       "    }\n",
       "\n",
       "    .dataframe tbody tr th {\n",
       "        vertical-align: top;\n",
       "    }\n",
       "\n",
       "    .dataframe thead th {\n",
       "        text-align: right;\n",
       "    }\n",
       "</style>\n",
       "<table border=\"1\" class=\"dataframe\">\n",
       "  <thead>\n",
       "    <tr style=\"text-align: right;\">\n",
       "      <th></th>\n",
       "      <th>imdb_id</th>\n",
       "      <th>adult</th>\n",
       "      <th>backdrop_path</th>\n",
       "      <th>belongs_to_collection</th>\n",
       "      <th>budget</th>\n",
       "      <th>genres</th>\n",
       "      <th>homepage</th>\n",
       "      <th>id</th>\n",
       "      <th>original_language</th>\n",
       "      <th>original_title</th>\n",
       "      <th>...</th>\n",
       "      <th>revenue</th>\n",
       "      <th>runtime</th>\n",
       "      <th>spoken_languages</th>\n",
       "      <th>status</th>\n",
       "      <th>tagline</th>\n",
       "      <th>title</th>\n",
       "      <th>video</th>\n",
       "      <th>vote_average</th>\n",
       "      <th>vote_count</th>\n",
       "      <th>certification</th>\n",
       "    </tr>\n",
       "  </thead>\n",
       "  <tbody>\n",
       "    <tr>\n",
       "      <th>0</th>\n",
       "      <td>0</td>\n",
       "      <td>NaN</td>\n",
       "      <td>NaN</td>\n",
       "      <td>NaN</td>\n",
       "      <td>NaN</td>\n",
       "      <td>NaN</td>\n",
       "      <td>NaN</td>\n",
       "      <td>NaN</td>\n",
       "      <td>NaN</td>\n",
       "      <td>NaN</td>\n",
       "      <td>...</td>\n",
       "      <td>NaN</td>\n",
       "      <td>NaN</td>\n",
       "      <td>NaN</td>\n",
       "      <td>NaN</td>\n",
       "      <td>NaN</td>\n",
       "      <td>NaN</td>\n",
       "      <td>NaN</td>\n",
       "      <td>NaN</td>\n",
       "      <td>NaN</td>\n",
       "      <td>NaN</td>\n",
       "    </tr>\n",
       "    <tr>\n",
       "      <th>1</th>\n",
       "      <td>tt0062336</td>\n",
       "      <td>0.0</td>\n",
       "      <td>/fw5tsNib4QZBEw18xmebpVe3WZ8.jpg</td>\n",
       "      <td>NaN</td>\n",
       "      <td>0.0</td>\n",
       "      <td>[{'id': 18, 'name': 'Drama'}, {'id': 14, 'name...</td>\n",
       "      <td>http://poetastros.com/el-tango-del-viudo/</td>\n",
       "      <td>602986.0</td>\n",
       "      <td>es</td>\n",
       "      <td>El tango del viudo y su espejo deformante</td>\n",
       "      <td>...</td>\n",
       "      <td>0.0</td>\n",
       "      <td>63.0</td>\n",
       "      <td>[{'english_name': 'Spanish', 'iso_639_1': 'es'...</td>\n",
       "      <td>Released</td>\n",
       "      <td>NaN</td>\n",
       "      <td>The Tango of the Widower and Its Distorting Mi...</td>\n",
       "      <td>0.0</td>\n",
       "      <td>5.300</td>\n",
       "      <td>3.0</td>\n",
       "      <td>NaN</td>\n",
       "    </tr>\n",
       "    <tr>\n",
       "      <th>2</th>\n",
       "      <td>tt0805647</td>\n",
       "      <td>0.0</td>\n",
       "      <td>/8rIoyM6zYXJNjzGseT3MRusMPWl.jpg</td>\n",
       "      <td>NaN</td>\n",
       "      <td>0.0</td>\n",
       "      <td>[{'id': 12, 'name': 'Adventure'}, {'id': 14, '...</td>\n",
       "      <td>https://www.thewitchesmovie.net/</td>\n",
       "      <td>531219.0</td>\n",
       "      <td>en</td>\n",
       "      <td>Roald Dahl's The Witches</td>\n",
       "      <td>...</td>\n",
       "      <td>26900000.0</td>\n",
       "      <td>106.0</td>\n",
       "      <td>[{'english_name': 'English', 'iso_639_1': 'en'...</td>\n",
       "      <td>Released</td>\n",
       "      <td>They're real!</td>\n",
       "      <td>Roald Dahl's The Witches</td>\n",
       "      <td>0.0</td>\n",
       "      <td>6.435</td>\n",
       "      <td>2315.0</td>\n",
       "      <td>PG</td>\n",
       "    </tr>\n",
       "    <tr>\n",
       "      <th>3</th>\n",
       "      <td>tt0920462</td>\n",
       "      <td>0.0</td>\n",
       "      <td>/mwXmcrvjOJwzsJSuNEupjisXUt6.jpg</td>\n",
       "      <td>NaN</td>\n",
       "      <td>0.0</td>\n",
       "      <td>[{'id': 18, 'name': 'Drama'}]</td>\n",
       "      <td>https://www.lostgirlslovehotels.film</td>\n",
       "      <td>479259.0</td>\n",
       "      <td>en</td>\n",
       "      <td>Lost Girls &amp; Love Hotels</td>\n",
       "      <td>...</td>\n",
       "      <td>106045.0</td>\n",
       "      <td>97.0</td>\n",
       "      <td>[{'english_name': 'English', 'iso_639_1': 'en'...</td>\n",
       "      <td>Released</td>\n",
       "      <td>NaN</td>\n",
       "      <td>Lost Girls &amp; Love Hotels</td>\n",
       "      <td>0.0</td>\n",
       "      <td>5.219</td>\n",
       "      <td>121.0</td>\n",
       "      <td>R</td>\n",
       "    </tr>\n",
       "    <tr>\n",
       "      <th>4</th>\n",
       "      <td>tt0926132</td>\n",
       "      <td>0.0</td>\n",
       "      <td>/op14w44FvLUqH7TWyT1ijzrSfXV.jpg</td>\n",
       "      <td>NaN</td>\n",
       "      <td>0.0</td>\n",
       "      <td>[{'id': 27, 'name': 'Horror'}]</td>\n",
       "      <td>http://www.roadtored.com</td>\n",
       "      <td>651448.0</td>\n",
       "      <td>en</td>\n",
       "      <td>Darkslide</td>\n",
       "      <td>...</td>\n",
       "      <td>0.0</td>\n",
       "      <td>121.0</td>\n",
       "      <td>[{'english_name': 'English', 'iso_639_1': 'en'...</td>\n",
       "      <td>Released</td>\n",
       "      <td>Keep Moving or Die</td>\n",
       "      <td>Darkslide</td>\n",
       "      <td>0.0</td>\n",
       "      <td>6.500</td>\n",
       "      <td>2.0</td>\n",
       "      <td>NaN</td>\n",
       "    </tr>\n",
       "  </tbody>\n",
       "</table>\n",
       "<p>5 rows × 26 columns</p>\n",
       "</div>"
      ],
      "text/plain": [
       "     imdb_id  adult                     backdrop_path belongs_to_collection  \\\n",
       "0          0    NaN                               NaN                   NaN   \n",
       "1  tt0062336    0.0  /fw5tsNib4QZBEw18xmebpVe3WZ8.jpg                   NaN   \n",
       "2  tt0805647    0.0  /8rIoyM6zYXJNjzGseT3MRusMPWl.jpg                   NaN   \n",
       "3  tt0920462    0.0  /mwXmcrvjOJwzsJSuNEupjisXUt6.jpg                   NaN   \n",
       "4  tt0926132    0.0  /op14w44FvLUqH7TWyT1ijzrSfXV.jpg                   NaN   \n",
       "\n",
       "  budget                                             genres  \\\n",
       "0    NaN                                                NaN   \n",
       "1    0.0  [{'id': 18, 'name': 'Drama'}, {'id': 14, 'name...   \n",
       "2    0.0  [{'id': 12, 'name': 'Adventure'}, {'id': 14, '...   \n",
       "3    0.0                      [{'id': 18, 'name': 'Drama'}]   \n",
       "4    0.0                     [{'id': 27, 'name': 'Horror'}]   \n",
       "\n",
       "                                    homepage        id original_language  \\\n",
       "0                                        NaN       NaN               NaN   \n",
       "1  http://poetastros.com/el-tango-del-viudo/  602986.0                es   \n",
       "2           https://www.thewitchesmovie.net/  531219.0                en   \n",
       "3       https://www.lostgirlslovehotels.film  479259.0                en   \n",
       "4                   http://www.roadtored.com  651448.0                en   \n",
       "\n",
       "                              original_title  ...     revenue runtime  \\\n",
       "0                                        NaN  ...         NaN     NaN   \n",
       "1  El tango del viudo y su espejo deformante  ...         0.0    63.0   \n",
       "2                   Roald Dahl's The Witches  ...  26900000.0   106.0   \n",
       "3                   Lost Girls & Love Hotels  ...    106045.0    97.0   \n",
       "4                                  Darkslide  ...         0.0   121.0   \n",
       "\n",
       "                                    spoken_languages    status  \\\n",
       "0                                                NaN       NaN   \n",
       "1  [{'english_name': 'Spanish', 'iso_639_1': 'es'...  Released   \n",
       "2  [{'english_name': 'English', 'iso_639_1': 'en'...  Released   \n",
       "3  [{'english_name': 'English', 'iso_639_1': 'en'...  Released   \n",
       "4  [{'english_name': 'English', 'iso_639_1': 'en'...  Released   \n",
       "\n",
       "              tagline                                              title  \\\n",
       "0                 NaN                                                NaN   \n",
       "1                 NaN  The Tango of the Widower and Its Distorting Mi...   \n",
       "2       They're real!                           Roald Dahl's The Witches   \n",
       "3                 NaN                           Lost Girls & Love Hotels   \n",
       "4  Keep Moving or Die                                          Darkslide   \n",
       "\n",
       "   video  vote_average vote_count certification  \n",
       "0    NaN           NaN        NaN           NaN  \n",
       "1    0.0         5.300        3.0           NaN  \n",
       "2    0.0         6.435     2315.0            PG  \n",
       "3    0.0         5.219      121.0             R  \n",
       "4    0.0         6.500        2.0           NaN  \n",
       "\n",
       "[5 rows x 26 columns]"
      ]
     },
     "execution_count": 2,
     "metadata": {},
     "output_type": "execute_result"
    }
   ],
   "source": [
    "# Load the data using glob\n",
    "\n",
    "# Get the filenames\n",
    "q = 'Data/final_tmdb_data_*.csv.gz'\n",
    "chunked_files = glob.glob(q)\n",
    "\n",
    "# Load the files\n",
    "df_list = []\n",
    "for file in chunked_files:\n",
    "    temp_df = pd.read_csv(file, engine = 'python')\n",
    "    df_list.append(temp_df)\n",
    "\n",
    "# Combine the files into one data frame    \n",
    "df = pd.concat(df_list)\n",
    "df.head()"
   ]
  },
  {
   "cell_type": "code",
   "execution_count": 3,
   "id": "78e5c7c2",
   "metadata": {
    "hidden": true
   },
   "outputs": [
    {
     "data": {
      "text/html": [
       "<div>\n",
       "<style scoped>\n",
       "    .dataframe tbody tr th:only-of-type {\n",
       "        vertical-align: middle;\n",
       "    }\n",
       "\n",
       "    .dataframe tbody tr th {\n",
       "        vertical-align: top;\n",
       "    }\n",
       "\n",
       "    .dataframe thead th {\n",
       "        text-align: right;\n",
       "    }\n",
       "</style>\n",
       "<table border=\"1\" class=\"dataframe\">\n",
       "  <thead>\n",
       "    <tr style=\"text-align: right;\">\n",
       "      <th></th>\n",
       "      <th>imdb_id</th>\n",
       "      <th>budget</th>\n",
       "      <th>revenue</th>\n",
       "      <th>certification</th>\n",
       "    </tr>\n",
       "  </thead>\n",
       "  <tbody>\n",
       "    <tr>\n",
       "      <th>0</th>\n",
       "      <td>0</td>\n",
       "      <td>NaN</td>\n",
       "      <td>NaN</td>\n",
       "      <td>NaN</td>\n",
       "    </tr>\n",
       "    <tr>\n",
       "      <th>1</th>\n",
       "      <td>tt0062336</td>\n",
       "      <td>0.0</td>\n",
       "      <td>0.0</td>\n",
       "      <td>NaN</td>\n",
       "    </tr>\n",
       "    <tr>\n",
       "      <th>2</th>\n",
       "      <td>tt0805647</td>\n",
       "      <td>0.0</td>\n",
       "      <td>26900000.0</td>\n",
       "      <td>PG</td>\n",
       "    </tr>\n",
       "    <tr>\n",
       "      <th>3</th>\n",
       "      <td>tt0920462</td>\n",
       "      <td>0.0</td>\n",
       "      <td>106045.0</td>\n",
       "      <td>R</td>\n",
       "    </tr>\n",
       "    <tr>\n",
       "      <th>4</th>\n",
       "      <td>tt0926132</td>\n",
       "      <td>0.0</td>\n",
       "      <td>0.0</td>\n",
       "      <td>NaN</td>\n",
       "    </tr>\n",
       "  </tbody>\n",
       "</table>\n",
       "</div>"
      ],
      "text/plain": [
       "     imdb_id budget     revenue certification\n",
       "0          0    NaN         NaN           NaN\n",
       "1  tt0062336    0.0         0.0           NaN\n",
       "2  tt0805647    0.0  26900000.0            PG\n",
       "3  tt0920462    0.0    106045.0             R\n",
       "4  tt0926132    0.0         0.0           NaN"
      ]
     },
     "execution_count": 3,
     "metadata": {},
     "output_type": "execute_result"
    }
   ],
   "source": [
    "# Get the columns of interest\n",
    "df = df[['imdb_id', 'budget', 'revenue', 'certification']]\n",
    "df.head()"
   ]
  },
  {
   "cell_type": "code",
   "execution_count": 5,
   "id": "f4ec4b25",
   "metadata": {
    "hidden": true
   },
   "outputs": [
    {
     "data": {
      "text/html": [
       "<div>\n",
       "<style scoped>\n",
       "    .dataframe tbody tr th:only-of-type {\n",
       "        vertical-align: middle;\n",
       "    }\n",
       "\n",
       "    .dataframe tbody tr th {\n",
       "        vertical-align: top;\n",
       "    }\n",
       "\n",
       "    .dataframe thead th {\n",
       "        text-align: right;\n",
       "    }\n",
       "</style>\n",
       "<table border=\"1\" class=\"dataframe\">\n",
       "  <thead>\n",
       "    <tr style=\"text-align: right;\">\n",
       "      <th></th>\n",
       "      <th>imdb_id</th>\n",
       "      <th>budget</th>\n",
       "      <th>revenue</th>\n",
       "      <th>certification</th>\n",
       "    </tr>\n",
       "  </thead>\n",
       "  <tbody>\n",
       "    <tr>\n",
       "      <th>2</th>\n",
       "      <td>tt0805647</td>\n",
       "      <td>0.0</td>\n",
       "      <td>26900000.0</td>\n",
       "      <td>PG</td>\n",
       "    </tr>\n",
       "    <tr>\n",
       "      <th>3</th>\n",
       "      <td>tt0920462</td>\n",
       "      <td>0.0</td>\n",
       "      <td>106045.0</td>\n",
       "      <td>R</td>\n",
       "    </tr>\n",
       "    <tr>\n",
       "      <th>5</th>\n",
       "      <td>tt0983946</td>\n",
       "      <td>7000000.0</td>\n",
       "      <td>47078545.0</td>\n",
       "      <td>PG-13</td>\n",
       "    </tr>\n",
       "    <tr>\n",
       "      <th>6</th>\n",
       "      <td>tt10003008</td>\n",
       "      <td>0.0</td>\n",
       "      <td>4296804.0</td>\n",
       "      <td>R</td>\n",
       "    </tr>\n",
       "    <tr>\n",
       "      <th>9</th>\n",
       "      <td>tt10004108</td>\n",
       "      <td>0.0</td>\n",
       "      <td>0.0</td>\n",
       "      <td>R</td>\n",
       "    </tr>\n",
       "  </tbody>\n",
       "</table>\n",
       "</div>"
      ],
      "text/plain": [
       "      imdb_id     budget     revenue certification\n",
       "2   tt0805647        0.0  26900000.0            PG\n",
       "3   tt0920462        0.0    106045.0             R\n",
       "5   tt0983946  7000000.0  47078545.0         PG-13\n",
       "6  tt10003008        0.0   4296804.0             R\n",
       "9  tt10004108        0.0         0.0             R"
      ]
     },
     "execution_count": 5,
     "metadata": {},
     "output_type": "execute_result"
    }
   ],
   "source": [
    "# Drop the null values\n",
    "df.dropna(inplace = True)\n",
    "df.head()"
   ]
  },
  {
   "cell_type": "code",
   "execution_count": 9,
   "id": "ce29e05a",
   "metadata": {
    "hidden": true
   },
   "outputs": [
    {
     "data": {
      "text/plain": [
       "array(['PG', 'R', 'PG-13', 'NR', 'NC-17', 'G', 'Not Rated', 'UR',\n",
       "       'Unrated', 'PG-13 ', '10', 'R ', 'ScreamFest Horror Film Festival',\n",
       "       '-'], dtype=object)"
      ]
     },
     "execution_count": 9,
     "metadata": {},
     "output_type": "execute_result"
    }
   ],
   "source": [
    "# Check the values in the certification column\n",
    "df['certification'].unique()"
   ]
  },
  {
   "cell_type": "markdown",
   "id": "84ad636a",
   "metadata": {
    "hidden": true
   },
   "source": [
    "> We see some ratings have an extra space."
   ]
  },
  {
   "cell_type": "code",
   "execution_count": 13,
   "id": "55233cd6",
   "metadata": {
    "hidden": true
   },
   "outputs": [
    {
     "data": {
      "text/plain": [
       "array(['PG', 'R', 'PG-13', 'NR', 'NC-17', 'G', 'Unrated', '10',\n",
       "       'ScreamFest Horror Film Festival', '-'], dtype=object)"
      ]
     },
     "execution_count": 13,
     "metadata": {},
     "output_type": "execute_result"
    }
   ],
   "source": [
    "# Get rid of the space in the ratings of R and PG-13. While it's not necessary\n",
    "# for this project, we will replace 'UR' and 'Not Rated' with Unrated. \n",
    "df['certification'].replace({'PG-13 ': 'PG-13', \n",
    "                             'R ': 'R',\n",
    "                             'UR': 'Unrated',\n",
    "                             'Not Rated': 'Unrated'}, \n",
    "                            inplace = True)\n",
    "\n",
    "# Make sure the changes were made\n",
    "df['certification'].unique()"
   ]
  },
  {
   "cell_type": "markdown",
   "id": "4046e435",
   "metadata": {},
   "source": [
    "## Hypothesis Test: Do ratings have a significant effect on revenue?"
   ]
  },
  {
   "cell_type": "markdown",
   "id": "4d82bdd5",
   "metadata": {},
   "source": [
    "**State the Null and Alternative Hypotheses**\n",
    "\n",
    "$H_0$: The rating of a movie does not affect its revenue.\n",
    "\n",
    "$H_1$: The rating of a movie has a significant effect on its revenue.\n",
    "\n",
    "> We are comparing the mean revenue of more than two groups so we will use an ANOVA test."
   ]
  },
  {
   "cell_type": "code",
   "execution_count": 65,
   "id": "282700f5",
   "metadata": {},
   "outputs": [],
   "source": [
    "# Get the revenues of the movies with ratings G, PG, PG-13, and R\n",
    "g_movie_rev = df.loc[df['certification'] == 'G', 'revenue']\n",
    "pg_movie_rev = df.loc[df['certification'] == 'PG', 'revenue']\n",
    "pg13_movie_rev = df.loc[df['certification'] == 'PG-13', 'revenue']\n",
    "r_movie_rev = df.loc[df['certification'] == 'R', 'revenue']"
   ]
  },
  {
   "cell_type": "code",
   "execution_count": 66,
   "id": "7b85c411",
   "metadata": {},
   "outputs": [
    {
     "name": "stdout",
     "output_type": "stream",
     "text": [
      "447 1451 3253 6244\n"
     ]
    }
   ],
   "source": [
    "# Remove any outliers from the groups\n",
    "g_movie_rev = g_movie_rev[abs(stats.zscore(g_movie_rev)) <= 3]\n",
    "pg_movie_rev = pg_movie_rev[abs(stats.zscore(pg_movie_rev)) <= 3]\n",
    "pg13_movie_rev = pg13_movie_rev[abs(stats.zscore(pg13_movie_rev)) <= 3]\n",
    "r_movie_rev = r_movie_rev[abs(stats.zscore(r_movie_rev)) <= 3]\n",
    "print(len(g_movie_rev),\n",
    "      len(pg_movie_rev),\n",
    "      len(pg13_movie_rev),\n",
    "      len(r_movie_rev))"
   ]
  },
  {
   "cell_type": "markdown",
   "id": "c5c4ae4f",
   "metadata": {},
   "source": [
    "> The sample sizes of each group are large enough that we may forgo the normality test"
   ]
  },
  {
   "cell_type": "code",
   "execution_count": 70,
   "id": "56f93597",
   "metadata": {},
   "outputs": [
    {
     "data": {
      "text/plain": [
       "LeveneResult(statistic=258.1783756187162, pvalue=4.129948362335215e-162)"
      ]
     },
     "execution_count": 70,
     "metadata": {},
     "output_type": "execute_result"
    }
   ],
   "source": [
    "# Test the groups for equal variance\n",
    "stats.levene(g_movie_rev,\n",
    "             pg_movie_rev,\n",
    "             pg13_movie_rev,\n",
    "             r_movie_rev)"
   ]
  },
  {
   "cell_type": "markdown",
   "id": "a8199bc8",
   "metadata": {},
   "source": [
    "> The $p$-value is less than our $\\alhpa$ of 0.05 so we reject the null-hypothesis that the groups have the same variance and assume they do *not* have the same variance so we use the Kruskal-Wallis test."
   ]
  },
  {
   "cell_type": "code",
   "execution_count": 72,
   "id": "f77df316",
   "metadata": {},
   "outputs": [
    {
     "data": {
      "text/plain": [
       "KruskalResult(statistic=458.444710214375, pvalue=4.825294601401865e-99)"
      ]
     },
     "execution_count": 72,
     "metadata": {},
     "output_type": "execute_result"
    }
   ],
   "source": [
    "# Perform the hypothesis test\n",
    "stats.kruskal(g_movie_rev,\n",
    "              pg_movie_rev,\n",
    "              pg13_movie_rev,\n",
    "              r_movie_rev)"
   ]
  },
  {
   "cell_type": "markdown",
   "id": "215425f8",
   "metadata": {},
   "source": [
    "> Our $p$-value of $4.8 \\times 10^{-99}$ is less than the given $\\alpha$ of 0.05 so we reject the null hypothesis. That is, our data supports the claim that the rating of a film has a significant effect on its revenue."
   ]
  },
  {
   "cell_type": "code",
   "execution_count": null,
   "id": "a4eb41e6",
   "metadata": {},
   "outputs": [],
   "source": [
    "#"
   ]
  }
 ],
 "metadata": {
  "kernelspec": {
   "display_name": "Python (dojo-env)",
   "language": "python",
   "name": "dojo-env"
  },
  "language_info": {
   "codemirror_mode": {
    "name": "ipython",
    "version": 3
   },
   "file_extension": ".py",
   "mimetype": "text/x-python",
   "name": "python",
   "nbconvert_exporter": "python",
   "pygments_lexer": "ipython3",
   "version": "3.8.13"
  },
  "toc": {
   "base_numbering": 1,
   "nav_menu": {},
   "number_sections": false,
   "sideBar": true,
   "skip_h1_title": false,
   "title_cell": "Table of Contents",
   "title_sidebar": "Contents",
   "toc_cell": false,
   "toc_position": {},
   "toc_section_display": true,
   "toc_window_display": false
  }
 },
 "nbformat": 4,
 "nbformat_minor": 5
}
