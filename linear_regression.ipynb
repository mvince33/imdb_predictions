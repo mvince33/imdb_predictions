{
 "cells": [
  {
   "cell_type": "markdown",
   "id": "1d60e157",
   "metadata": {
    "heading_collapsed": true
   },
   "source": [
    "# Imports"
   ]
  },
  {
   "cell_type": "code",
   "execution_count": 66,
   "id": "d1d7c634",
   "metadata": {
    "hidden": true
   },
   "outputs": [],
   "source": [
    "# Imports\n",
    "import numpy as np\n",
    "import pandas as pd\n",
    "import matplotlib.pyplot as plt\n",
    "import seaborn as sns\n",
    "import statsmodels.api as sm\n",
    "from sklearn.model_selection import train_test_split\n",
    "from sklearn.compose import make_column_selector, make_column_transformer\n",
    "from sklearn.pipeline import make_pipeline\n",
    "from sklearn.preprocessing import OneHotEncoder"
   ]
  },
  {
   "cell_type": "markdown",
   "id": "d4a11731",
   "metadata": {
    "heading_collapsed": true
   },
   "source": [
    "# Load the Data"
   ]
  },
  {
   "cell_type": "code",
   "execution_count": 2,
   "id": "3eb24bd9",
   "metadata": {
    "hidden": true
   },
   "outputs": [
    {
     "data": {
      "text/html": [
       "<div>\n",
       "<style scoped>\n",
       "    .dataframe tbody tr th:only-of-type {\n",
       "        vertical-align: middle;\n",
       "    }\n",
       "\n",
       "    .dataframe tbody tr th {\n",
       "        vertical-align: top;\n",
       "    }\n",
       "\n",
       "    .dataframe thead th {\n",
       "        text-align: right;\n",
       "    }\n",
       "</style>\n",
       "<table border=\"1\" class=\"dataframe\">\n",
       "  <thead>\n",
       "    <tr style=\"text-align: right;\">\n",
       "      <th></th>\n",
       "      <th>Unnamed: 0</th>\n",
       "      <th>adult</th>\n",
       "      <th>backdrop_path</th>\n",
       "      <th>belongs_to_collection</th>\n",
       "      <th>budget</th>\n",
       "      <th>genres</th>\n",
       "      <th>homepage</th>\n",
       "      <th>id</th>\n",
       "      <th>original_language</th>\n",
       "      <th>original_title</th>\n",
       "      <th>...</th>\n",
       "      <th>revenue</th>\n",
       "      <th>runtime</th>\n",
       "      <th>spoken_languages</th>\n",
       "      <th>status</th>\n",
       "      <th>tagline</th>\n",
       "      <th>title</th>\n",
       "      <th>video</th>\n",
       "      <th>vote_average</th>\n",
       "      <th>vote_count</th>\n",
       "      <th>certification</th>\n",
       "    </tr>\n",
       "    <tr>\n",
       "      <th>imdb_id</th>\n",
       "      <th></th>\n",
       "      <th></th>\n",
       "      <th></th>\n",
       "      <th></th>\n",
       "      <th></th>\n",
       "      <th></th>\n",
       "      <th></th>\n",
       "      <th></th>\n",
       "      <th></th>\n",
       "      <th></th>\n",
       "      <th></th>\n",
       "      <th></th>\n",
       "      <th></th>\n",
       "      <th></th>\n",
       "      <th></th>\n",
       "      <th></th>\n",
       "      <th></th>\n",
       "      <th></th>\n",
       "      <th></th>\n",
       "      <th></th>\n",
       "      <th></th>\n",
       "    </tr>\n",
       "  </thead>\n",
       "  <tbody>\n",
       "    <tr>\n",
       "      <th>0</th>\n",
       "      <td>0</td>\n",
       "      <td>NaN</td>\n",
       "      <td>NaN</td>\n",
       "      <td>NaN</td>\n",
       "      <td>NaN</td>\n",
       "      <td>NaN</td>\n",
       "      <td>NaN</td>\n",
       "      <td>NaN</td>\n",
       "      <td>NaN</td>\n",
       "      <td>NaN</td>\n",
       "      <td>...</td>\n",
       "      <td>NaN</td>\n",
       "      <td>NaN</td>\n",
       "      <td>NaN</td>\n",
       "      <td>NaN</td>\n",
       "      <td>NaN</td>\n",
       "      <td>NaN</td>\n",
       "      <td>NaN</td>\n",
       "      <td>NaN</td>\n",
       "      <td>NaN</td>\n",
       "      <td>NaN</td>\n",
       "    </tr>\n",
       "    <tr>\n",
       "      <th>tt0062336</th>\n",
       "      <td>1</td>\n",
       "      <td>0.0</td>\n",
       "      <td>/fw5tsNib4QZBEw18xmebpVe3WZ8.jpg</td>\n",
       "      <td>NaN</td>\n",
       "      <td>0.0</td>\n",
       "      <td>[{'id': 18, 'name': 'Drama'}, {'id': 14, 'name...</td>\n",
       "      <td>http://poetastros.com/el-tango-del-viudo/</td>\n",
       "      <td>602986.0</td>\n",
       "      <td>es</td>\n",
       "      <td>El tango del viudo y su espejo deformante</td>\n",
       "      <td>...</td>\n",
       "      <td>0.0</td>\n",
       "      <td>63.0</td>\n",
       "      <td>[{'english_name': 'Spanish', 'iso_639_1': 'es'...</td>\n",
       "      <td>Released</td>\n",
       "      <td>NaN</td>\n",
       "      <td>The Tango of the Widower and Its Distorting Mi...</td>\n",
       "      <td>0.0</td>\n",
       "      <td>5.300</td>\n",
       "      <td>3.0</td>\n",
       "      <td>NaN</td>\n",
       "    </tr>\n",
       "    <tr>\n",
       "      <th>tt0805647</th>\n",
       "      <td>2</td>\n",
       "      <td>0.0</td>\n",
       "      <td>/8rIoyM6zYXJNjzGseT3MRusMPWl.jpg</td>\n",
       "      <td>NaN</td>\n",
       "      <td>0.0</td>\n",
       "      <td>[{'id': 12, 'name': 'Adventure'}, {'id': 14, '...</td>\n",
       "      <td>https://www.thewitchesmovie.net/</td>\n",
       "      <td>531219.0</td>\n",
       "      <td>en</td>\n",
       "      <td>Roald Dahl's The Witches</td>\n",
       "      <td>...</td>\n",
       "      <td>26900000.0</td>\n",
       "      <td>106.0</td>\n",
       "      <td>[{'english_name': 'English', 'iso_639_1': 'en'...</td>\n",
       "      <td>Released</td>\n",
       "      <td>They're real!</td>\n",
       "      <td>Roald Dahl's The Witches</td>\n",
       "      <td>0.0</td>\n",
       "      <td>6.435</td>\n",
       "      <td>2315.0</td>\n",
       "      <td>PG</td>\n",
       "    </tr>\n",
       "    <tr>\n",
       "      <th>tt0920462</th>\n",
       "      <td>3</td>\n",
       "      <td>0.0</td>\n",
       "      <td>/mwXmcrvjOJwzsJSuNEupjisXUt6.jpg</td>\n",
       "      <td>NaN</td>\n",
       "      <td>0.0</td>\n",
       "      <td>[{'id': 18, 'name': 'Drama'}]</td>\n",
       "      <td>https://www.lostgirlslovehotels.film</td>\n",
       "      <td>479259.0</td>\n",
       "      <td>en</td>\n",
       "      <td>Lost Girls &amp; Love Hotels</td>\n",
       "      <td>...</td>\n",
       "      <td>106045.0</td>\n",
       "      <td>97.0</td>\n",
       "      <td>[{'english_name': 'English', 'iso_639_1': 'en'...</td>\n",
       "      <td>Released</td>\n",
       "      <td>NaN</td>\n",
       "      <td>Lost Girls &amp; Love Hotels</td>\n",
       "      <td>0.0</td>\n",
       "      <td>5.219</td>\n",
       "      <td>121.0</td>\n",
       "      <td>R</td>\n",
       "    </tr>\n",
       "    <tr>\n",
       "      <th>tt0926132</th>\n",
       "      <td>4</td>\n",
       "      <td>0.0</td>\n",
       "      <td>/op14w44FvLUqH7TWyT1ijzrSfXV.jpg</td>\n",
       "      <td>NaN</td>\n",
       "      <td>0.0</td>\n",
       "      <td>[{'id': 27, 'name': 'Horror'}]</td>\n",
       "      <td>http://www.roadtored.com</td>\n",
       "      <td>651448.0</td>\n",
       "      <td>en</td>\n",
       "      <td>Darkslide</td>\n",
       "      <td>...</td>\n",
       "      <td>0.0</td>\n",
       "      <td>121.0</td>\n",
       "      <td>[{'english_name': 'English', 'iso_639_1': 'en'...</td>\n",
       "      <td>Released</td>\n",
       "      <td>Keep Moving or Die</td>\n",
       "      <td>Darkslide</td>\n",
       "      <td>0.0</td>\n",
       "      <td>6.500</td>\n",
       "      <td>2.0</td>\n",
       "      <td>NaN</td>\n",
       "    </tr>\n",
       "  </tbody>\n",
       "</table>\n",
       "<p>5 rows × 26 columns</p>\n",
       "</div>"
      ],
      "text/plain": [
       "           Unnamed: 0  adult                     backdrop_path  \\\n",
       "imdb_id                                                          \n",
       "0                   0    NaN                               NaN   \n",
       "tt0062336           1    0.0  /fw5tsNib4QZBEw18xmebpVe3WZ8.jpg   \n",
       "tt0805647           2    0.0  /8rIoyM6zYXJNjzGseT3MRusMPWl.jpg   \n",
       "tt0920462           3    0.0  /mwXmcrvjOJwzsJSuNEupjisXUt6.jpg   \n",
       "tt0926132           4    0.0  /op14w44FvLUqH7TWyT1ijzrSfXV.jpg   \n",
       "\n",
       "          belongs_to_collection budget  \\\n",
       "imdb_id                                  \n",
       "0                           NaN    NaN   \n",
       "tt0062336                   NaN    0.0   \n",
       "tt0805647                   NaN    0.0   \n",
       "tt0920462                   NaN    0.0   \n",
       "tt0926132                   NaN    0.0   \n",
       "\n",
       "                                                      genres  \\\n",
       "imdb_id                                                        \n",
       "0                                                        NaN   \n",
       "tt0062336  [{'id': 18, 'name': 'Drama'}, {'id': 14, 'name...   \n",
       "tt0805647  [{'id': 12, 'name': 'Adventure'}, {'id': 14, '...   \n",
       "tt0920462                      [{'id': 18, 'name': 'Drama'}]   \n",
       "tt0926132                     [{'id': 27, 'name': 'Horror'}]   \n",
       "\n",
       "                                            homepage        id  \\\n",
       "imdb_id                                                          \n",
       "0                                                NaN       NaN   \n",
       "tt0062336  http://poetastros.com/el-tango-del-viudo/  602986.0   \n",
       "tt0805647           https://www.thewitchesmovie.net/  531219.0   \n",
       "tt0920462       https://www.lostgirlslovehotels.film  479259.0   \n",
       "tt0926132                   http://www.roadtored.com  651448.0   \n",
       "\n",
       "          original_language                             original_title  ...  \\\n",
       "imdb_id                                                                 ...   \n",
       "0                       NaN                                        NaN  ...   \n",
       "tt0062336                es  El tango del viudo y su espejo deformante  ...   \n",
       "tt0805647                en                   Roald Dahl's The Witches  ...   \n",
       "tt0920462                en                   Lost Girls & Love Hotels  ...   \n",
       "tt0926132                en                                  Darkslide  ...   \n",
       "\n",
       "              revenue runtime  \\\n",
       "imdb_id                         \n",
       "0                 NaN     NaN   \n",
       "tt0062336         0.0    63.0   \n",
       "tt0805647  26900000.0   106.0   \n",
       "tt0920462    106045.0    97.0   \n",
       "tt0926132         0.0   121.0   \n",
       "\n",
       "                                            spoken_languages    status  \\\n",
       "imdb_id                                                                  \n",
       "0                                                        NaN       NaN   \n",
       "tt0062336  [{'english_name': 'Spanish', 'iso_639_1': 'es'...  Released   \n",
       "tt0805647  [{'english_name': 'English', 'iso_639_1': 'en'...  Released   \n",
       "tt0920462  [{'english_name': 'English', 'iso_639_1': 'en'...  Released   \n",
       "tt0926132  [{'english_name': 'English', 'iso_639_1': 'en'...  Released   \n",
       "\n",
       "                      tagline  \\\n",
       "imdb_id                         \n",
       "0                         NaN   \n",
       "tt0062336                 NaN   \n",
       "tt0805647       They're real!   \n",
       "tt0920462                 NaN   \n",
       "tt0926132  Keep Moving or Die   \n",
       "\n",
       "                                                       title  video  \\\n",
       "imdb_id                                                               \n",
       "0                                                        NaN    NaN   \n",
       "tt0062336  The Tango of the Widower and Its Distorting Mi...    0.0   \n",
       "tt0805647                           Roald Dahl's The Witches    0.0   \n",
       "tt0920462                           Lost Girls & Love Hotels    0.0   \n",
       "tt0926132                                          Darkslide    0.0   \n",
       "\n",
       "           vote_average vote_count certification  \n",
       "imdb_id                                           \n",
       "0                   NaN        NaN           NaN  \n",
       "tt0062336         5.300        3.0           NaN  \n",
       "tt0805647         6.435     2315.0            PG  \n",
       "tt0920462         5.219      121.0             R  \n",
       "tt0926132         6.500        2.0           NaN  \n",
       "\n",
       "[5 rows x 26 columns]"
      ]
     },
     "execution_count": 2,
     "metadata": {},
     "output_type": "execute_result"
    }
   ],
   "source": [
    "# Load the data\n",
    "df = pd.read_csv('Data/tmdb_results_combined.csv.gz', index_col = 'imdb_id')\n",
    "df.head()"
   ]
  },
  {
   "cell_type": "markdown",
   "id": "b33ee105",
   "metadata": {
    "heading_collapsed": true
   },
   "source": [
    "# Data Cleaning"
   ]
  },
  {
   "cell_type": "code",
   "execution_count": 3,
   "id": "be471ecc",
   "metadata": {
    "hidden": true
   },
   "outputs": [
    {
     "data": {
      "text/html": [
       "<div>\n",
       "<style scoped>\n",
       "    .dataframe tbody tr th:only-of-type {\n",
       "        vertical-align: middle;\n",
       "    }\n",
       "\n",
       "    .dataframe tbody tr th {\n",
       "        vertical-align: top;\n",
       "    }\n",
       "\n",
       "    .dataframe thead th {\n",
       "        text-align: right;\n",
       "    }\n",
       "</style>\n",
       "<table border=\"1\" class=\"dataframe\">\n",
       "  <thead>\n",
       "    <tr style=\"text-align: right;\">\n",
       "      <th></th>\n",
       "      <th>budget</th>\n",
       "      <th>revenue</th>\n",
       "      <th>runtime</th>\n",
       "      <th>certification</th>\n",
       "    </tr>\n",
       "    <tr>\n",
       "      <th>imdb_id</th>\n",
       "      <th></th>\n",
       "      <th></th>\n",
       "      <th></th>\n",
       "      <th></th>\n",
       "    </tr>\n",
       "  </thead>\n",
       "  <tbody>\n",
       "    <tr>\n",
       "      <th>0</th>\n",
       "      <td>NaN</td>\n",
       "      <td>NaN</td>\n",
       "      <td>NaN</td>\n",
       "      <td>NaN</td>\n",
       "    </tr>\n",
       "    <tr>\n",
       "      <th>tt0062336</th>\n",
       "      <td>0.0</td>\n",
       "      <td>0.0</td>\n",
       "      <td>63.0</td>\n",
       "      <td>NaN</td>\n",
       "    </tr>\n",
       "    <tr>\n",
       "      <th>tt0805647</th>\n",
       "      <td>0.0</td>\n",
       "      <td>26900000.0</td>\n",
       "      <td>106.0</td>\n",
       "      <td>PG</td>\n",
       "    </tr>\n",
       "    <tr>\n",
       "      <th>tt0920462</th>\n",
       "      <td>0.0</td>\n",
       "      <td>106045.0</td>\n",
       "      <td>97.0</td>\n",
       "      <td>R</td>\n",
       "    </tr>\n",
       "    <tr>\n",
       "      <th>tt0926132</th>\n",
       "      <td>0.0</td>\n",
       "      <td>0.0</td>\n",
       "      <td>121.0</td>\n",
       "      <td>NaN</td>\n",
       "    </tr>\n",
       "  </tbody>\n",
       "</table>\n",
       "</div>"
      ],
      "text/plain": [
       "          budget     revenue  runtime certification\n",
       "imdb_id                                            \n",
       "0            NaN         NaN      NaN           NaN\n",
       "tt0062336    0.0         0.0     63.0           NaN\n",
       "tt0805647    0.0  26900000.0    106.0            PG\n",
       "tt0920462    0.0    106045.0     97.0             R\n",
       "tt0926132    0.0         0.0    121.0           NaN"
      ]
     },
     "execution_count": 3,
     "metadata": {},
     "output_type": "execute_result"
    }
   ],
   "source": [
    "# We will only be using budget, revenue, runtime, and certification for this model\n",
    "df = df[['budget', 'revenue', 'runtime', 'certification']]\n",
    "df.head()"
   ]
  },
  {
   "cell_type": "code",
   "execution_count": 4,
   "id": "6be34ac2",
   "metadata": {
    "hidden": true
   },
   "outputs": [
    {
     "data": {
      "text/plain": [
       "0"
      ]
     },
     "execution_count": 4,
     "metadata": {},
     "output_type": "execute_result"
    }
   ],
   "source": [
    "# Remove any duplicates\n",
    "df.drop_duplicates(inplace = True)\n",
    "df.duplicated().sum()"
   ]
  },
  {
   "cell_type": "code",
   "execution_count": 5,
   "id": "ecd4ce67",
   "metadata": {
    "hidden": true
   },
   "outputs": [
    {
     "data": {
      "text/plain": [
       "budget              1\n",
       "revenue             8\n",
       "runtime             8\n",
       "certification    5729\n",
       "dtype: int64"
      ]
     },
     "execution_count": 5,
     "metadata": {},
     "output_type": "execute_result"
    }
   ],
   "source": [
    "# Check for null values\n",
    "df.isna().sum()"
   ]
  },
  {
   "cell_type": "code",
   "execution_count": 6,
   "id": "ff8dd81d",
   "metadata": {
    "hidden": true
   },
   "outputs": [
    {
     "name": "stdout",
     "output_type": "stream",
     "text": [
      "0.0006008261359369133\n"
     ]
    }
   ],
   "source": [
    "# We will drop the null values in the revenue column\n",
    "print(df['revenue'].isna().sum() / df.shape[0])\n",
    "df.dropna(subset = 'revenue', inplace = True)"
   ]
  },
  {
   "cell_type": "code",
   "execution_count": 7,
   "id": "642ef3c7",
   "metadata": {
    "hidden": true
   },
   "outputs": [
    {
     "name": "stdout",
     "output_type": "stream",
     "text": [
      "0.0\n"
     ]
    }
   ],
   "source": [
    "# We will drop the null values in the runtime column\n",
    "print(df['runtime'].isna().sum() / df.shape[0])\n",
    "df.dropna(subset = 'runtime', inplace = True)"
   ]
  },
  {
   "cell_type": "code",
   "execution_count": 8,
   "id": "be0a5724",
   "metadata": {
    "hidden": true
   },
   "outputs": [
    {
     "data": {
      "text/plain": [
       "0.42992410009769294"
      ]
     },
     "execution_count": 8,
     "metadata": {},
     "output_type": "execute_result"
    }
   ],
   "source": [
    "# Get the percentage of null values in the certification column.\n",
    "df['certification'].isna().sum() / df.shape[0]"
   ]
  },
  {
   "cell_type": "code",
   "execution_count": 9,
   "id": "3f174883",
   "metadata": {
    "hidden": true
   },
   "outputs": [],
   "source": [
    "# 43% of the certification values are null so we will impute with 'missing'\n",
    "df['certification'].fillna('Missing', inplace = True)"
   ]
  },
  {
   "cell_type": "code",
   "execution_count": 10,
   "id": "1a7d63be",
   "metadata": {
    "hidden": true
   },
   "outputs": [
    {
     "data": {
      "text/plain": [
       "Missing                            5721\n",
       "R                                  3213\n",
       "PG-13                              2133\n",
       "NR                                 1015\n",
       "PG                                  884\n",
       "G                                   235\n",
       "NC-17                                94\n",
       "Unrated                               5\n",
       "Not Rated                             1\n",
       "UR                                    1\n",
       "PG-13                                 1\n",
       "10                                    1\n",
       "R                                     1\n",
       "ScreamFest Horror Film Festival       1\n",
       "-                                     1\n",
       "Name: certification, dtype: int64"
      ]
     },
     "execution_count": 10,
     "metadata": {},
     "output_type": "execute_result"
    }
   ],
   "source": [
    "# Check the certification column\n",
    "df['certification'].value_counts()"
   ]
  },
  {
   "cell_type": "code",
   "execution_count": 11,
   "id": "07b94af0",
   "metadata": {
    "hidden": true
   },
   "outputs": [],
   "source": [
    "# Fix the unrated labels\n",
    "df['certification'].replace({'Not Rated': 'NR', \n",
    "                             'Unrated': 'NR',\n",
    "                             'UR': 'NR'},\n",
    "                            inplace = True)"
   ]
  },
  {
   "cell_type": "code",
   "execution_count": 12,
   "id": "3fddcf8c",
   "metadata": {
    "hidden": true
   },
   "outputs": [
    {
     "name": "stdout",
     "output_type": "stream",
     "text": [
      "1\n",
      "1\n"
     ]
    }
   ],
   "source": [
    "# Find the issue with R and PG-13 movies\n",
    "print(df['certification'].str.contains('PG-13 ').sum())\n",
    "print(df['certification'].str.contains('R ').sum())"
   ]
  },
  {
   "cell_type": "code",
   "execution_count": 13,
   "id": "e8e3f778",
   "metadata": {
    "hidden": true
   },
   "outputs": [],
   "source": [
    "# Fix the ratings with an extra space\n",
    "df.replace({'PG-13 ': 'PG-13','R ': 'R'}, inplace = True)"
   ]
  },
  {
   "cell_type": "code",
   "execution_count": 14,
   "id": "bce812e2",
   "metadata": {
    "hidden": true
   },
   "outputs": [],
   "source": [
    "# Drop the values in certification that don't seem to make sense\n",
    "df = df[~df['certification'].str.contains('10')]\n",
    "df = df[~df['certification'].str.contains('ScreamFest')]"
   ]
  },
  {
   "cell_type": "code",
   "execution_count": 15,
   "id": "34fc2d96",
   "metadata": {
    "hidden": true
   },
   "outputs": [],
   "source": [
    "# Drop the column with only '-'\n",
    "df = df[~(df['certification'] == '-')]"
   ]
  },
  {
   "cell_type": "code",
   "execution_count": 16,
   "id": "87e546fa",
   "metadata": {
    "hidden": true
   },
   "outputs": [
    {
     "data": {
      "text/plain": [
       "Missing    5721\n",
       "R          3214\n",
       "PG-13      2134\n",
       "NR         1022\n",
       "PG          884\n",
       "G           235\n",
       "NC-17        94\n",
       "Name: certification, dtype: int64"
      ]
     },
     "execution_count": 16,
     "metadata": {},
     "output_type": "execute_result"
    }
   ],
   "source": [
    "# Check the value counts again\n",
    "df['certification'].value_counts()"
   ]
  },
  {
   "cell_type": "code",
   "execution_count": 17,
   "id": "e7e8da13",
   "metadata": {
    "hidden": true
   },
   "outputs": [
    {
     "name": "stdout",
     "output_type": "stream",
     "text": [
      "<class 'pandas.core.frame.DataFrame'>\n",
      "Index: 13304 entries, tt0062336 to tt0445841\n",
      "Data columns (total 4 columns):\n",
      " #   Column         Non-Null Count  Dtype  \n",
      "---  ------         --------------  -----  \n",
      " 0   budget         13304 non-null  object \n",
      " 1   revenue        13304 non-null  float64\n",
      " 2   runtime        13304 non-null  float64\n",
      " 3   certification  13304 non-null  object \n",
      "dtypes: float64(2), object(2)\n",
      "memory usage: 519.7+ KB\n"
     ]
    }
   ],
   "source": [
    "# Check the data types\n",
    "df.info()"
   ]
  },
  {
   "cell_type": "code",
   "execution_count": 18,
   "id": "a0f8390d",
   "metadata": {
    "hidden": true
   },
   "outputs": [
    {
     "name": "stdout",
     "output_type": "stream",
     "text": [
      "<class 'pandas.core.frame.DataFrame'>\n",
      "Index: 13304 entries, tt0062336 to tt0445841\n",
      "Data columns (total 4 columns):\n",
      " #   Column         Non-Null Count  Dtype  \n",
      "---  ------         --------------  -----  \n",
      " 0   budget         13304 non-null  float64\n",
      " 1   revenue        13304 non-null  float64\n",
      " 2   runtime        13304 non-null  float64\n",
      " 3   certification  13304 non-null  object \n",
      "dtypes: float64(3), object(1)\n",
      "memory usage: 519.7+ KB\n"
     ]
    }
   ],
   "source": [
    "# The budget column is not a float.\n",
    "df['budget'] = df['budget'].astype(float)\n",
    "df.info()"
   ]
  },
  {
   "cell_type": "code",
   "execution_count": 19,
   "id": "1f554c9d",
   "metadata": {
    "hidden": true
   },
   "outputs": [
    {
     "data": {
      "text/plain": [
       "771"
      ]
     },
     "execution_count": 19,
     "metadata": {},
     "output_type": "execute_result"
    }
   ],
   "source": [
    "# See how many values for budget and revenue are 0\n",
    "filter = (df['budget'] == 0) & (df['revenue'] == 0)\n",
    "len(df[filter])"
   ]
  },
  {
   "cell_type": "code",
   "execution_count": 20,
   "id": "49ff439e",
   "metadata": {
    "hidden": true
   },
   "outputs": [],
   "source": [
    "# Few enough values meet the above condition so we drop those rows\n",
    "df = df[~filter]"
   ]
  },
  {
   "cell_type": "code",
   "execution_count": 21,
   "id": "364f50b8",
   "metadata": {
    "hidden": true
   },
   "outputs": [
    {
     "data": {
      "text/plain": [
       "0.5832601930902418"
      ]
     },
     "execution_count": 21,
     "metadata": {},
     "output_type": "execute_result"
    }
   ],
   "source": [
    "# See how many values for budget or revenue are 0\n",
    "filter = (df['budget'] == 0) | (df['revenue'] == 0)\n",
    "len(df[filter]) / df.shape[0]"
   ]
  },
  {
   "cell_type": "markdown",
   "id": "22d8aa50",
   "metadata": {
    "hidden": true
   },
   "source": [
    "> 44% of our data is too much to delete. We will keep the rows where either budget or revenue is 0."
   ]
  },
  {
   "cell_type": "markdown",
   "id": "5c69a376",
   "metadata": {
    "heading_collapsed": true
   },
   "source": [
    "# Exploratory Data Analysis"
   ]
  },
  {
   "cell_type": "code",
   "execution_count": 22,
   "id": "a879e608",
   "metadata": {
    "hidden": true
   },
   "outputs": [
    {
     "data": {
      "image/png": "[encoded data removed]",
      "text/plain": [
       "<Figure size 640x480 with 1 Axes>"
      ]
     },
     "metadata": {},
     "output_type": "display_data"
    }
   ],
   "source": [
    "# Construct barplots for budget and certification\n",
    "sns.barplot(data = df, x = 'certification', y = 'budget');"
   ]
  },
  {
   "cell_type": "code",
   "execution_count": 23,
   "id": "1104378a",
   "metadata": {
    "hidden": true
   },
   "outputs": [
    {
     "data": {
      "image/png": "[encoded data removed]",
      "text/plain": [
       "<Figure size 640x480 with 1 Axes>"
      ]
     },
     "metadata": {},
     "output_type": "display_data"
    }
   ],
   "source": [
    "# Construct barplots for revenue and certification\n",
    "sns.barplot(data = df, x = 'certification', y = 'revenue');"
   ]
  },
  {
   "cell_type": "markdown",
   "id": "c95f8e6a",
   "metadata": {
    "hidden": true
   },
   "source": [
    "> The shape of these bar plots suggest a correlation between budget and revenue."
   ]
  },
  {
   "cell_type": "code",
   "execution_count": 24,
   "id": "1a282585",
   "metadata": {
    "hidden": true
   },
   "outputs": [
    {
     "data": {
      "image/png": "[encoded data removed]",
      "text/plain": [
       "<Figure size 640x480 with 1 Axes>"
      ]
     },
     "metadata": {},
     "output_type": "display_data"
    }
   ],
   "source": [
    "# Construct a scatter plot of revenue vs. runtime\n",
    "sns.scatterplot(x = df['runtime'], y = df['revenue']);"
   ]
  },
  {
   "cell_type": "markdown",
   "id": "0bb98efc",
   "metadata": {
    "hidden": true
   },
   "source": [
    "> There does not appear to be a linear correlation between runtime and revenue, so we will exclude revenue from our model"
   ]
  },
  {
   "cell_type": "code",
   "execution_count": 25,
   "id": "2ffb69fb",
   "metadata": {
    "hidden": true
   },
   "outputs": [],
   "source": [
    "df.drop(columns = 'runtime', inplace = True)"
   ]
  },
  {
   "cell_type": "markdown",
   "id": "146b8766",
   "metadata": {
    "heading_collapsed": true
   },
   "source": [
    "# Data Preprocessing"
   ]
  },
  {
   "cell_type": "code",
   "execution_count": 26,
   "id": "6f0efe64",
   "metadata": {
    "hidden": true
   },
   "outputs": [],
   "source": [
    "# Set the target and features\n",
    "y = df['revenue'].copy()\n",
    "X = df.drop(columns = 'revenue').copy()\n",
    "\n",
    "# Split the data\n",
    "X_train, X_test, y_train, y_test = train_test_split(X, y, random_state = 42)"
   ]
  },
  {
   "cell_type": "code",
   "execution_count": 27,
   "id": "193d2ca5",
   "metadata": {
    "hidden": true
   },
   "outputs": [
    {
     "data": {
      "text/html": [
       "<style>#sk-container-id-1 {color: black;background-color: white;}#sk-container-id-1 pre{padding: 0;}#sk-container-id-1 div.sk-toggleable {background-color: white;}#sk-container-id-1 label.sk-toggleable__label {cursor: pointer;display: block;width: 100%;margin-bottom: 0;padding: 0.3em;box-sizing: border-box;text-align: center;}#sk-container-id-1 label.sk-toggleable__label-arrow:before {content: \"▸\";float: left;margin-right: 0.25em;color: #696969;}#sk-container-id-1 label.sk-toggleable__label-arrow:hover:before {color: black;}#sk-container-id-1 div.sk-estimator:hover label.sk-toggleable__label-arrow:before {color: black;}#sk-container-id-1 div.sk-toggleable__content {max-height: 0;max-width: 0;overflow: hidden;text-align: left;background-color: #f0f8ff;}#sk-container-id-1 div.sk-toggleable__content pre {margin: 0.2em;color: black;border-radius: 0.25em;background-color: #f0f8ff;}#sk-container-id-1 input.sk-toggleable__control:checked~div.sk-toggleable__content {max-height: 200px;max-width: 100%;overflow: auto;}#sk-container-id-1 input.sk-toggleable__control:checked~label.sk-toggleable__label-arrow:before {content: \"▾\";}#sk-container-id-1 div.sk-estimator input.sk-toggleable__control:checked~label.sk-toggleable__label {background-color: #d4ebff;}#sk-container-id-1 div.sk-label input.sk-toggleable__control:checked~label.sk-toggleable__label {background-color: #d4ebff;}#sk-container-id-1 input.sk-hidden--visually {border: 0;clip: rect(1px 1px 1px 1px);clip: rect(1px, 1px, 1px, 1px);height: 1px;margin: -1px;overflow: hidden;padding: 0;position: absolute;width: 1px;}#sk-container-id-1 div.sk-estimator {font-family: monospace;background-color: #f0f8ff;border: 1px dotted black;border-radius: 0.25em;box-sizing: border-box;margin-bottom: 0.5em;}#sk-container-id-1 div.sk-estimator:hover {background-color: #d4ebff;}#sk-container-id-1 div.sk-parallel-item::after {content: \"\";width: 100%;border-bottom: 1px solid gray;flex-grow: 1;}#sk-container-id-1 div.sk-label:hover label.sk-toggleable__label {background-color: #d4ebff;}#sk-container-id-1 div.sk-serial::before {content: \"\";position: absolute;border-left: 1px solid gray;box-sizing: border-box;top: 0;bottom: 0;left: 50%;z-index: 0;}#sk-container-id-1 div.sk-serial {display: flex;flex-direction: column;align-items: center;background-color: white;padding-right: 0.2em;padding-left: 0.2em;position: relative;}#sk-container-id-1 div.sk-item {position: relative;z-index: 1;}#sk-container-id-1 div.sk-parallel {display: flex;align-items: stretch;justify-content: center;background-color: white;position: relative;}#sk-container-id-1 div.sk-item::before, #sk-container-id-1 div.sk-parallel-item::before {content: \"\";position: absolute;border-left: 1px solid gray;box-sizing: border-box;top: 0;bottom: 0;left: 50%;z-index: -1;}#sk-container-id-1 div.sk-parallel-item {display: flex;flex-direction: column;z-index: 1;position: relative;background-color: white;}#sk-container-id-1 div.sk-parallel-item:first-child::after {align-self: flex-end;width: 50%;}#sk-container-id-1 div.sk-parallel-item:last-child::after {align-self: flex-start;width: 50%;}#sk-container-id-1 div.sk-parallel-item:only-child::after {width: 0;}#sk-container-id-1 div.sk-dashed-wrapped {border: 1px dashed gray;margin: 0 0.4em 0.5em 0.4em;box-sizing: border-box;padding-bottom: 0.4em;background-color: white;}#sk-container-id-1 div.sk-label label {font-family: monospace;font-weight: bold;display: inline-block;line-height: 1.2em;}#sk-container-id-1 div.sk-label-container {text-align: center;}#sk-container-id-1 div.sk-container {/* jupyter's `normalize.less` sets `[hidden] { display: none; }` but bootstrap.min.css set `[hidden] { display: none !important; }` so we also need the `!important` here to be able to override the default hidden behavior on the sphinx rendered scikit-learn.org. See: https://github.com/scikit-learn/scikit-learn/issues/21755 */display: inline-block !important;position: relative;}#sk-container-id-1 div.sk-text-repr-fallback {display: none;}</style><div id=\"sk-container-id-1\" class=\"sk-top-container\"><div class=\"sk-text-repr-fallback\"><pre>ColumnTransformer(remainder=&#x27;passthrough&#x27;,\n",
       "                  transformers=[(&#x27;onehotencoder&#x27;,\n",
       "                                 OneHotEncoder(handle_unknown=&#x27;ignore&#x27;,\n",
       "                                               sparse=False),\n",
       "                                 [&#x27;certification&#x27;])])</pre><b>In a Jupyter environment, please rerun this cell to show the HTML representation or trust the notebook. <br />On GitHub, the HTML representation is unable to render, please try loading this page with nbviewer.org.</b></div><div class=\"sk-container\" hidden><div class=\"sk-item sk-dashed-wrapped\"><div class=\"sk-label-container\"><div class=\"sk-label sk-toggleable\"><input class=\"sk-toggleable__control sk-hidden--visually\" id=\"sk-estimator-id-1\" type=\"checkbox\" ><label for=\"sk-estimator-id-1\" class=\"sk-toggleable__label sk-toggleable__label-arrow\">ColumnTransformer</label><div class=\"sk-toggleable__content\"><pre>ColumnTransformer(remainder=&#x27;passthrough&#x27;,\n",
       "                  transformers=[(&#x27;onehotencoder&#x27;,\n",
       "                                 OneHotEncoder(handle_unknown=&#x27;ignore&#x27;,\n",
       "                                               sparse=False),\n",
       "                                 [&#x27;certification&#x27;])])</pre></div></div></div><div class=\"sk-parallel\"><div class=\"sk-parallel-item\"><div class=\"sk-item\"><div class=\"sk-label-container\"><div class=\"sk-label sk-toggleable\"><input class=\"sk-toggleable__control sk-hidden--visually\" id=\"sk-estimator-id-2\" type=\"checkbox\" ><label for=\"sk-estimator-id-2\" class=\"sk-toggleable__label sk-toggleable__label-arrow\">onehotencoder</label><div class=\"sk-toggleable__content\"><pre>[&#x27;certification&#x27;]</pre></div></div></div><div class=\"sk-serial\"><div class=\"sk-item\"><div class=\"sk-estimator sk-toggleable\"><input class=\"sk-toggleable__control sk-hidden--visually\" id=\"sk-estimator-id-3\" type=\"checkbox\" ><label for=\"sk-estimator-id-3\" class=\"sk-toggleable__label sk-toggleable__label-arrow\">OneHotEncoder</label><div class=\"sk-toggleable__content\"><pre>OneHotEncoder(handle_unknown=&#x27;ignore&#x27;, sparse=False)</pre></div></div></div></div></div></div><div class=\"sk-parallel-item\"><div class=\"sk-item\"><div class=\"sk-label-container\"><div class=\"sk-label sk-toggleable\"><input class=\"sk-toggleable__control sk-hidden--visually\" id=\"sk-estimator-id-4\" type=\"checkbox\" ><label for=\"sk-estimator-id-4\" class=\"sk-toggleable__label sk-toggleable__label-arrow\">remainder</label><div class=\"sk-toggleable__content\"><pre></pre></div></div></div><div class=\"sk-serial\"><div class=\"sk-item\"><div class=\"sk-estimator sk-toggleable\"><input class=\"sk-toggleable__control sk-hidden--visually\" id=\"sk-estimator-id-5\" type=\"checkbox\" ><label for=\"sk-estimator-id-5\" class=\"sk-toggleable__label sk-toggleable__label-arrow\">passthrough</label><div class=\"sk-toggleable__content\"><pre>passthrough</pre></div></div></div></div></div></div></div></div></div></div>"
      ],
      "text/plain": [
       "ColumnTransformer(remainder='passthrough',\n",
       "                  transformers=[('onehotencoder',\n",
       "                                 OneHotEncoder(handle_unknown='ignore',\n",
       "                                               sparse=False),\n",
       "                                 ['certification'])])"
      ]
     },
     "execution_count": 27,
     "metadata": {},
     "output_type": "execute_result"
    }
   ],
   "source": [
    "# We will one hot encode the categorical data\n",
    "cat_selector = make_column_selector(dtype_include = 'object')\n",
    "cat_cols = cat_selector(df)\n",
    "ohe = OneHotEncoder(sparse = False, handle_unknown = 'ignore')\n",
    "\n",
    "# Make a column transformer\n",
    "col_transformer = make_column_transformer((ohe, cat_cols),\n",
    "                                          remainder = 'passthrough')\n",
    "col_transformer"
   ]
  },
  {
   "cell_type": "code",
   "execution_count": 28,
   "id": "7714ce2b",
   "metadata": {
    "hidden": true
   },
   "outputs": [
    {
     "data": {
      "text/html": [
       "<style>#sk-container-id-2 {color: black;background-color: white;}#sk-container-id-2 pre{padding: 0;}#sk-container-id-2 div.sk-toggleable {background-color: white;}#sk-container-id-2 label.sk-toggleable__label {cursor: pointer;display: block;width: 100%;margin-bottom: 0;padding: 0.3em;box-sizing: border-box;text-align: center;}#sk-container-id-2 label.sk-toggleable__label-arrow:before {content: \"▸\";float: left;margin-right: 0.25em;color: #696969;}#sk-container-id-2 label.sk-toggleable__label-arrow:hover:before {color: black;}#sk-container-id-2 div.sk-estimator:hover label.sk-toggleable__label-arrow:before {color: black;}#sk-container-id-2 div.sk-toggleable__content {max-height: 0;max-width: 0;overflow: hidden;text-align: left;background-color: #f0f8ff;}#sk-container-id-2 div.sk-toggleable__content pre {margin: 0.2em;color: black;border-radius: 0.25em;background-color: #f0f8ff;}#sk-container-id-2 input.sk-toggleable__control:checked~div.sk-toggleable__content {max-height: 200px;max-width: 100%;overflow: auto;}#sk-container-id-2 input.sk-toggleable__control:checked~label.sk-toggleable__label-arrow:before {content: \"▾\";}#sk-container-id-2 div.sk-estimator input.sk-toggleable__control:checked~label.sk-toggleable__label {background-color: #d4ebff;}#sk-container-id-2 div.sk-label input.sk-toggleable__control:checked~label.sk-toggleable__label {background-color: #d4ebff;}#sk-container-id-2 input.sk-hidden--visually {border: 0;clip: rect(1px 1px 1px 1px);clip: rect(1px, 1px, 1px, 1px);height: 1px;margin: -1px;overflow: hidden;padding: 0;position: absolute;width: 1px;}#sk-container-id-2 div.sk-estimator {font-family: monospace;background-color: #f0f8ff;border: 1px dotted black;border-radius: 0.25em;box-sizing: border-box;margin-bottom: 0.5em;}#sk-container-id-2 div.sk-estimator:hover {background-color: #d4ebff;}#sk-container-id-2 div.sk-parallel-item::after {content: \"\";width: 100%;border-bottom: 1px solid gray;flex-grow: 1;}#sk-container-id-2 div.sk-label:hover label.sk-toggleable__label {background-color: #d4ebff;}#sk-container-id-2 div.sk-serial::before {content: \"\";position: absolute;border-left: 1px solid gray;box-sizing: border-box;top: 0;bottom: 0;left: 50%;z-index: 0;}#sk-container-id-2 div.sk-serial {display: flex;flex-direction: column;align-items: center;background-color: white;padding-right: 0.2em;padding-left: 0.2em;position: relative;}#sk-container-id-2 div.sk-item {position: relative;z-index: 1;}#sk-container-id-2 div.sk-parallel {display: flex;align-items: stretch;justify-content: center;background-color: white;position: relative;}#sk-container-id-2 div.sk-item::before, #sk-container-id-2 div.sk-parallel-item::before {content: \"\";position: absolute;border-left: 1px solid gray;box-sizing: border-box;top: 0;bottom: 0;left: 50%;z-index: -1;}#sk-container-id-2 div.sk-parallel-item {display: flex;flex-direction: column;z-index: 1;position: relative;background-color: white;}#sk-container-id-2 div.sk-parallel-item:first-child::after {align-self: flex-end;width: 50%;}#sk-container-id-2 div.sk-parallel-item:last-child::after {align-self: flex-start;width: 50%;}#sk-container-id-2 div.sk-parallel-item:only-child::after {width: 0;}#sk-container-id-2 div.sk-dashed-wrapped {border: 1px dashed gray;margin: 0 0.4em 0.5em 0.4em;box-sizing: border-box;padding-bottom: 0.4em;background-color: white;}#sk-container-id-2 div.sk-label label {font-family: monospace;font-weight: bold;display: inline-block;line-height: 1.2em;}#sk-container-id-2 div.sk-label-container {text-align: center;}#sk-container-id-2 div.sk-container {/* jupyter's `normalize.less` sets `[hidden] { display: none; }` but bootstrap.min.css set `[hidden] { display: none !important; }` so we also need the `!important` here to be able to override the default hidden behavior on the sphinx rendered scikit-learn.org. See: https://github.com/scikit-learn/scikit-learn/issues/21755 */display: inline-block !important;position: relative;}#sk-container-id-2 div.sk-text-repr-fallback {display: none;}</style><div id=\"sk-container-id-2\" class=\"sk-top-container\"><div class=\"sk-text-repr-fallback\"><pre>ColumnTransformer(remainder=&#x27;passthrough&#x27;,\n",
       "                  transformers=[(&#x27;onehotencoder&#x27;,\n",
       "                                 OneHotEncoder(handle_unknown=&#x27;ignore&#x27;,\n",
       "                                               sparse=False),\n",
       "                                 [&#x27;certification&#x27;])])</pre><b>In a Jupyter environment, please rerun this cell to show the HTML representation or trust the notebook. <br />On GitHub, the HTML representation is unable to render, please try loading this page with nbviewer.org.</b></div><div class=\"sk-container\" hidden><div class=\"sk-item sk-dashed-wrapped\"><div class=\"sk-label-container\"><div class=\"sk-label sk-toggleable\"><input class=\"sk-toggleable__control sk-hidden--visually\" id=\"sk-estimator-id-6\" type=\"checkbox\" ><label for=\"sk-estimator-id-6\" class=\"sk-toggleable__label sk-toggleable__label-arrow\">ColumnTransformer</label><div class=\"sk-toggleable__content\"><pre>ColumnTransformer(remainder=&#x27;passthrough&#x27;,\n",
       "                  transformers=[(&#x27;onehotencoder&#x27;,\n",
       "                                 OneHotEncoder(handle_unknown=&#x27;ignore&#x27;,\n",
       "                                               sparse=False),\n",
       "                                 [&#x27;certification&#x27;])])</pre></div></div></div><div class=\"sk-parallel\"><div class=\"sk-parallel-item\"><div class=\"sk-item\"><div class=\"sk-label-container\"><div class=\"sk-label sk-toggleable\"><input class=\"sk-toggleable__control sk-hidden--visually\" id=\"sk-estimator-id-7\" type=\"checkbox\" ><label for=\"sk-estimator-id-7\" class=\"sk-toggleable__label sk-toggleable__label-arrow\">onehotencoder</label><div class=\"sk-toggleable__content\"><pre>[&#x27;certification&#x27;]</pre></div></div></div><div class=\"sk-serial\"><div class=\"sk-item\"><div class=\"sk-estimator sk-toggleable\"><input class=\"sk-toggleable__control sk-hidden--visually\" id=\"sk-estimator-id-8\" type=\"checkbox\" ><label for=\"sk-estimator-id-8\" class=\"sk-toggleable__label sk-toggleable__label-arrow\">OneHotEncoder</label><div class=\"sk-toggleable__content\"><pre>OneHotEncoder(handle_unknown=&#x27;ignore&#x27;, sparse=False)</pre></div></div></div></div></div></div><div class=\"sk-parallel-item\"><div class=\"sk-item\"><div class=\"sk-label-container\"><div class=\"sk-label sk-toggleable\"><input class=\"sk-toggleable__control sk-hidden--visually\" id=\"sk-estimator-id-9\" type=\"checkbox\" ><label for=\"sk-estimator-id-9\" class=\"sk-toggleable__label sk-toggleable__label-arrow\">remainder</label><div class=\"sk-toggleable__content\"><pre>[&#x27;budget&#x27;]</pre></div></div></div><div class=\"sk-serial\"><div class=\"sk-item\"><div class=\"sk-estimator sk-toggleable\"><input class=\"sk-toggleable__control sk-hidden--visually\" id=\"sk-estimator-id-10\" type=\"checkbox\" ><label for=\"sk-estimator-id-10\" class=\"sk-toggleable__label sk-toggleable__label-arrow\">passthrough</label><div class=\"sk-toggleable__content\"><pre>passthrough</pre></div></div></div></div></div></div></div></div></div></div>"
      ],
      "text/plain": [
       "ColumnTransformer(remainder='passthrough',\n",
       "                  transformers=[('onehotencoder',\n",
       "                                 OneHotEncoder(handle_unknown='ignore',\n",
       "                                               sparse=False),\n",
       "                                 ['certification'])])"
      ]
     },
     "execution_count": 28,
     "metadata": {},
     "output_type": "execute_result"
    }
   ],
   "source": [
    "# Fit the column transformer\n",
    "col_transformer.fit(X_train)"
   ]
  },
  {
   "cell_type": "code",
   "execution_count": 30,
   "id": "a6410125",
   "metadata": {
    "hidden": true
   },
   "outputs": [],
   "source": [
    "# Transform the data\n",
    "X_train_processed = col_transformer.transform(X_train)\n",
    "X_test_processed = col_transformer.transform(X_test)"
   ]
  },
  {
   "cell_type": "code",
   "execution_count": 52,
   "id": "fffccc47",
   "metadata": {
    "hidden": true
   },
   "outputs": [
    {
     "data": {
      "text/plain": [
       "array(['onehotencoder__certification_G',\n",
       "       'onehotencoder__certification_Missing',\n",
       "       'onehotencoder__certification_NC-17',\n",
       "       'onehotencoder__certification_NR',\n",
       "       'onehotencoder__certification_PG',\n",
       "       'onehotencoder__certification_PG-13',\n",
       "       'onehotencoder__certification_R', 'remainder__budget'],\n",
       "      dtype=object)"
      ]
     },
     "execution_count": 52,
     "metadata": {},
     "output_type": "execute_result"
    }
   ],
   "source": [
    "# Get the one hot encoded feature names\n",
    "final_features = col_transformer.get_feature_names_out()\n",
    "final_features"
   ]
  },
  {
   "cell_type": "code",
   "execution_count": 60,
   "id": "34001227",
   "metadata": {
    "hidden": true
   },
   "outputs": [
    {
     "data": {
      "text/plain": [
       "array(['onehotencoder__certification_G',\n",
       "       'onehotencoder__certification_Missing',\n",
       "       'onehotencoder__certification_NC-17',\n",
       "       'onehotencoder__certification_NR',\n",
       "       'onehotencoder__certification_PG',\n",
       "       'onehotencoder__certification_PG-13',\n",
       "       'onehotencoder__certification_R', 'budget'], dtype=object)"
      ]
     },
     "execution_count": 60,
     "metadata": {},
     "output_type": "execute_result"
    }
   ],
   "source": [
    "# Replace 'remainder__budget' with 'budget'\n",
    "final_features[final_features == 'remainder__budget'] = 'budget'\n",
    "final_features"
   ]
  },
  {
   "cell_type": "code",
   "execution_count": 65,
   "id": "9007119d",
   "metadata": {
    "hidden": true
   },
   "outputs": [
    {
     "data": {
      "text/html": [
       "<div>\n",
       "<style scoped>\n",
       "    .dataframe tbody tr th:only-of-type {\n",
       "        vertical-align: middle;\n",
       "    }\n",
       "\n",
       "    .dataframe tbody tr th {\n",
       "        vertical-align: top;\n",
       "    }\n",
       "\n",
       "    .dataframe thead th {\n",
       "        text-align: right;\n",
       "    }\n",
       "</style>\n",
       "<table border=\"1\" class=\"dataframe\">\n",
       "  <thead>\n",
       "    <tr style=\"text-align: right;\">\n",
       "      <th></th>\n",
       "      <th>onehotencoder__certification_G</th>\n",
       "      <th>onehotencoder__certification_Missing</th>\n",
       "      <th>onehotencoder__certification_NC-17</th>\n",
       "      <th>onehotencoder__certification_NR</th>\n",
       "      <th>onehotencoder__certification_PG</th>\n",
       "      <th>onehotencoder__certification_PG-13</th>\n",
       "      <th>onehotencoder__certification_R</th>\n",
       "      <th>budget</th>\n",
       "    </tr>\n",
       "    <tr>\n",
       "      <th>imdb_id</th>\n",
       "      <th></th>\n",
       "      <th></th>\n",
       "      <th></th>\n",
       "      <th></th>\n",
       "      <th></th>\n",
       "      <th></th>\n",
       "      <th></th>\n",
       "      <th></th>\n",
       "    </tr>\n",
       "  </thead>\n",
       "  <tbody>\n",
       "    <tr>\n",
       "      <th>tt1278340</th>\n",
       "      <td>0.0</td>\n",
       "      <td>0.0</td>\n",
       "      <td>0.0</td>\n",
       "      <td>0.0</td>\n",
       "      <td>0.0</td>\n",
       "      <td>0.0</td>\n",
       "      <td>1.0</td>\n",
       "      <td>800000.0</td>\n",
       "    </tr>\n",
       "    <tr>\n",
       "      <th>tt0246464</th>\n",
       "      <td>0.0</td>\n",
       "      <td>0.0</td>\n",
       "      <td>0.0</td>\n",
       "      <td>0.0</td>\n",
       "      <td>0.0</td>\n",
       "      <td>1.0</td>\n",
       "      <td>0.0</td>\n",
       "      <td>40000000.0</td>\n",
       "    </tr>\n",
       "    <tr>\n",
       "      <th>tt4154916</th>\n",
       "      <td>0.0</td>\n",
       "      <td>0.0</td>\n",
       "      <td>0.0</td>\n",
       "      <td>0.0</td>\n",
       "      <td>0.0</td>\n",
       "      <td>1.0</td>\n",
       "      <td>0.0</td>\n",
       "      <td>30000000.0</td>\n",
       "    </tr>\n",
       "    <tr>\n",
       "      <th>tt4036334</th>\n",
       "      <td>0.0</td>\n",
       "      <td>1.0</td>\n",
       "      <td>0.0</td>\n",
       "      <td>0.0</td>\n",
       "      <td>0.0</td>\n",
       "      <td>0.0</td>\n",
       "      <td>0.0</td>\n",
       "      <td>800000.0</td>\n",
       "    </tr>\n",
       "    <tr>\n",
       "      <th>tt3129706</th>\n",
       "      <td>0.0</td>\n",
       "      <td>0.0</td>\n",
       "      <td>0.0</td>\n",
       "      <td>1.0</td>\n",
       "      <td>0.0</td>\n",
       "      <td>0.0</td>\n",
       "      <td>0.0</td>\n",
       "      <td>15000.0</td>\n",
       "    </tr>\n",
       "  </tbody>\n",
       "</table>\n",
       "</div>"
      ],
      "text/plain": [
       "           onehotencoder__certification_G  \\\n",
       "imdb_id                                     \n",
       "tt1278340                             0.0   \n",
       "tt0246464                             0.0   \n",
       "tt4154916                             0.0   \n",
       "tt4036334                             0.0   \n",
       "tt3129706                             0.0   \n",
       "\n",
       "           onehotencoder__certification_Missing  \\\n",
       "imdb_id                                           \n",
       "tt1278340                                   0.0   \n",
       "tt0246464                                   0.0   \n",
       "tt4154916                                   0.0   \n",
       "tt4036334                                   1.0   \n",
       "tt3129706                                   0.0   \n",
       "\n",
       "           onehotencoder__certification_NC-17  \\\n",
       "imdb_id                                         \n",
       "tt1278340                                 0.0   \n",
       "tt0246464                                 0.0   \n",
       "tt4154916                                 0.0   \n",
       "tt4036334                                 0.0   \n",
       "tt3129706                                 0.0   \n",
       "\n",
       "           onehotencoder__certification_NR  onehotencoder__certification_PG  \\\n",
       "imdb_id                                                                       \n",
       "tt1278340                              0.0                              0.0   \n",
       "tt0246464                              0.0                              0.0   \n",
       "tt4154916                              0.0                              0.0   \n",
       "tt4036334                              0.0                              0.0   \n",
       "tt3129706                              1.0                              0.0   \n",
       "\n",
       "           onehotencoder__certification_PG-13  onehotencoder__certification_R  \\\n",
       "imdb_id                                                                         \n",
       "tt1278340                                 0.0                             1.0   \n",
       "tt0246464                                 1.0                             0.0   \n",
       "tt4154916                                 1.0                             0.0   \n",
       "tt4036334                                 0.0                             0.0   \n",
       "tt3129706                                 0.0                             0.0   \n",
       "\n",
       "               budget  \n",
       "imdb_id                \n",
       "tt1278340    800000.0  \n",
       "tt0246464  40000000.0  \n",
       "tt4154916  30000000.0  \n",
       "tt4036334    800000.0  \n",
       "tt3129706     15000.0  "
      ]
     },
     "metadata": {},
     "output_type": "display_data"
    },
    {
     "data": {
      "text/html": [
       "<div>\n",
       "<style scoped>\n",
       "    .dataframe tbody tr th:only-of-type {\n",
       "        vertical-align: middle;\n",
       "    }\n",
       "\n",
       "    .dataframe tbody tr th {\n",
       "        vertical-align: top;\n",
       "    }\n",
       "\n",
       "    .dataframe thead th {\n",
       "        text-align: right;\n",
       "    }\n",
       "</style>\n",
       "<table border=\"1\" class=\"dataframe\">\n",
       "  <thead>\n",
       "    <tr style=\"text-align: right;\">\n",
       "      <th></th>\n",
       "      <th>onehotencoder__certification_G</th>\n",
       "      <th>onehotencoder__certification_Missing</th>\n",
       "      <th>onehotencoder__certification_NC-17</th>\n",
       "      <th>onehotencoder__certification_NR</th>\n",
       "      <th>onehotencoder__certification_PG</th>\n",
       "      <th>onehotencoder__certification_PG-13</th>\n",
       "      <th>onehotencoder__certification_R</th>\n",
       "      <th>budget</th>\n",
       "    </tr>\n",
       "    <tr>\n",
       "      <th>imdb_id</th>\n",
       "      <th></th>\n",
       "      <th></th>\n",
       "      <th></th>\n",
       "      <th></th>\n",
       "      <th></th>\n",
       "      <th></th>\n",
       "      <th></th>\n",
       "      <th></th>\n",
       "    </tr>\n",
       "  </thead>\n",
       "  <tbody>\n",
       "    <tr>\n",
       "      <th>tt13997634</th>\n",
       "      <td>0.0</td>\n",
       "      <td>1.0</td>\n",
       "      <td>0.0</td>\n",
       "      <td>0.0</td>\n",
       "      <td>0.0</td>\n",
       "      <td>0.0</td>\n",
       "      <td>0.0</td>\n",
       "      <td>16000.0</td>\n",
       "    </tr>\n",
       "    <tr>\n",
       "      <th>tt0831387</th>\n",
       "      <td>0.0</td>\n",
       "      <td>0.0</td>\n",
       "      <td>0.0</td>\n",
       "      <td>0.0</td>\n",
       "      <td>0.0</td>\n",
       "      <td>1.0</td>\n",
       "      <td>0.0</td>\n",
       "      <td>160000000.0</td>\n",
       "    </tr>\n",
       "    <tr>\n",
       "      <th>tt0274428</th>\n",
       "      <td>0.0</td>\n",
       "      <td>1.0</td>\n",
       "      <td>0.0</td>\n",
       "      <td>0.0</td>\n",
       "      <td>0.0</td>\n",
       "      <td>0.0</td>\n",
       "      <td>0.0</td>\n",
       "      <td>0.0</td>\n",
       "    </tr>\n",
       "    <tr>\n",
       "      <th>tt20255716</th>\n",
       "      <td>0.0</td>\n",
       "      <td>1.0</td>\n",
       "      <td>0.0</td>\n",
       "      <td>0.0</td>\n",
       "      <td>0.0</td>\n",
       "      <td>0.0</td>\n",
       "      <td>0.0</td>\n",
       "      <td>3000.0</td>\n",
       "    </tr>\n",
       "    <tr>\n",
       "      <th>tt7761014</th>\n",
       "      <td>0.0</td>\n",
       "      <td>1.0</td>\n",
       "      <td>0.0</td>\n",
       "      <td>0.0</td>\n",
       "      <td>0.0</td>\n",
       "      <td>0.0</td>\n",
       "      <td>0.0</td>\n",
       "      <td>20000.0</td>\n",
       "    </tr>\n",
       "  </tbody>\n",
       "</table>\n",
       "</div>"
      ],
      "text/plain": [
       "            onehotencoder__certification_G  \\\n",
       "imdb_id                                      \n",
       "tt13997634                             0.0   \n",
       "tt0831387                              0.0   \n",
       "tt0274428                              0.0   \n",
       "tt20255716                             0.0   \n",
       "tt7761014                              0.0   \n",
       "\n",
       "            onehotencoder__certification_Missing  \\\n",
       "imdb_id                                            \n",
       "tt13997634                                   1.0   \n",
       "tt0831387                                    0.0   \n",
       "tt0274428                                    1.0   \n",
       "tt20255716                                   1.0   \n",
       "tt7761014                                    1.0   \n",
       "\n",
       "            onehotencoder__certification_NC-17  \\\n",
       "imdb_id                                          \n",
       "tt13997634                                 0.0   \n",
       "tt0831387                                  0.0   \n",
       "tt0274428                                  0.0   \n",
       "tt20255716                                 0.0   \n",
       "tt7761014                                  0.0   \n",
       "\n",
       "            onehotencoder__certification_NR  onehotencoder__certification_PG  \\\n",
       "imdb_id                                                                        \n",
       "tt13997634                              0.0                              0.0   \n",
       "tt0831387                               0.0                              0.0   \n",
       "tt0274428                               0.0                              0.0   \n",
       "tt20255716                              0.0                              0.0   \n",
       "tt7761014                               0.0                              0.0   \n",
       "\n",
       "            onehotencoder__certification_PG-13  \\\n",
       "imdb_id                                          \n",
       "tt13997634                                 0.0   \n",
       "tt0831387                                  1.0   \n",
       "tt0274428                                  0.0   \n",
       "tt20255716                                 0.0   \n",
       "tt7761014                                  0.0   \n",
       "\n",
       "            onehotencoder__certification_R       budget  \n",
       "imdb_id                                                  \n",
       "tt13997634                             0.0      16000.0  \n",
       "tt0831387                              0.0  160000000.0  \n",
       "tt0274428                              0.0          0.0  \n",
       "tt20255716                             0.0       3000.0  \n",
       "tt7761014                              0.0      20000.0  "
      ]
     },
     "metadata": {},
     "output_type": "display_data"
    }
   ],
   "source": [
    "# Convert the processed data back to data frames\n",
    "X_train_df = pd.DataFrame(X_train_processed,\n",
    "                          columns = final_features,\n",
    "                          index = X_train.index)\n",
    "X_test_df = pd.DataFrame(X_test_processed,\n",
    "                         columns = final_features,\n",
    "                         index = X_test.index)\n",
    "display(X_train_df.head(), X_test_df.head())"
   ]
  },
  {
   "cell_type": "code",
   "execution_count": 70,
   "id": "d80912bc",
   "metadata": {
    "hidden": true
   },
   "outputs": [],
   "source": [
    "# Add constants to the data frames for linear regression\n",
    "X_train_df = sm.add_constant(X_train_df, prepend = False, has_constant = 'add')\n",
    "X_test_df = sm.add_constant(X_test_df, prepend = False, has_constant = 'add')"
   ]
  }
 ],
 "metadata": {
  "kernelspec": {
   "display_name": "Python (dojo-env)",
   "language": "python",
   "name": "dojo-env"
  },
  "language_info": {
   "codemirror_mode": {
    "name": "ipython",
    "version": 3
   },
   "file_extension": ".py",
   "mimetype": "text/x-python",
   "name": "python",
   "nbconvert_exporter": "python",
   "pygments_lexer": "ipython3",
   "version": "3.8.13"
  },
  "toc": {
   "base_numbering": 1,
   "nav_menu": {},
   "number_sections": false,
   "sideBar": true,
   "skip_h1_title": false,
   "title_cell": "Table of Contents",
   "title_sidebar": "Contents",
   "toc_cell": false,
   "toc_position": {},
   "toc_section_display": true,
   "toc_window_display": false
  }
 },
 "nbformat": 4,
 "nbformat_minor": 5
}
