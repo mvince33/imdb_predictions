{
 "cells": [
  {
   "cell_type": "markdown",
   "id": "1d60e157",
   "metadata": {},
   "source": [
    "# Imports"
   ]
  },
  {
   "cell_type": "code",
   "execution_count": 1,
   "id": "d1d7c634",
   "metadata": {},
   "outputs": [],
   "source": [
    "# Imports\n",
    "import numpy as np\n",
    "import pandas as pd\n",
    "import matplotlib.pyplot as plt\n",
    "import seaborn as sns"
   ]
  },
  {
   "cell_type": "markdown",
   "id": "d4a11731",
   "metadata": {},
   "source": [
    "# Load the data"
   ]
  },
  {
   "cell_type": "code",
   "execution_count": 11,
   "id": "3eb24bd9",
   "metadata": {},
   "outputs": [
    {
     "data": {
      "text/html": [
       "<div>\n",
       "<style scoped>\n",
       "    .dataframe tbody tr th:only-of-type {\n",
       "        vertical-align: middle;\n",
       "    }\n",
       "\n",
       "    .dataframe tbody tr th {\n",
       "        vertical-align: top;\n",
       "    }\n",
       "\n",
       "    .dataframe thead th {\n",
       "        text-align: right;\n",
       "    }\n",
       "</style>\n",
       "<table border=\"1\" class=\"dataframe\">\n",
       "  <thead>\n",
       "    <tr style=\"text-align: right;\">\n",
       "      <th></th>\n",
       "      <th>Unnamed: 0</th>\n",
       "      <th>adult</th>\n",
       "      <th>backdrop_path</th>\n",
       "      <th>belongs_to_collection</th>\n",
       "      <th>budget</th>\n",
       "      <th>genres</th>\n",
       "      <th>homepage</th>\n",
       "      <th>id</th>\n",
       "      <th>original_language</th>\n",
       "      <th>original_title</th>\n",
       "      <th>...</th>\n",
       "      <th>revenue</th>\n",
       "      <th>runtime</th>\n",
       "      <th>spoken_languages</th>\n",
       "      <th>status</th>\n",
       "      <th>tagline</th>\n",
       "      <th>title</th>\n",
       "      <th>video</th>\n",
       "      <th>vote_average</th>\n",
       "      <th>vote_count</th>\n",
       "      <th>certification</th>\n",
       "    </tr>\n",
       "    <tr>\n",
       "      <th>imdb_id</th>\n",
       "      <th></th>\n",
       "      <th></th>\n",
       "      <th></th>\n",
       "      <th></th>\n",
       "      <th></th>\n",
       "      <th></th>\n",
       "      <th></th>\n",
       "      <th></th>\n",
       "      <th></th>\n",
       "      <th></th>\n",
       "      <th></th>\n",
       "      <th></th>\n",
       "      <th></th>\n",
       "      <th></th>\n",
       "      <th></th>\n",
       "      <th></th>\n",
       "      <th></th>\n",
       "      <th></th>\n",
       "      <th></th>\n",
       "      <th></th>\n",
       "      <th></th>\n",
       "    </tr>\n",
       "  </thead>\n",
       "  <tbody>\n",
       "    <tr>\n",
       "      <th>0</th>\n",
       "      <td>0</td>\n",
       "      <td>NaN</td>\n",
       "      <td>NaN</td>\n",
       "      <td>NaN</td>\n",
       "      <td>NaN</td>\n",
       "      <td>NaN</td>\n",
       "      <td>NaN</td>\n",
       "      <td>NaN</td>\n",
       "      <td>NaN</td>\n",
       "      <td>NaN</td>\n",
       "      <td>...</td>\n",
       "      <td>NaN</td>\n",
       "      <td>NaN</td>\n",
       "      <td>NaN</td>\n",
       "      <td>NaN</td>\n",
       "      <td>NaN</td>\n",
       "      <td>NaN</td>\n",
       "      <td>NaN</td>\n",
       "      <td>NaN</td>\n",
       "      <td>NaN</td>\n",
       "      <td>NaN</td>\n",
       "    </tr>\n",
       "    <tr>\n",
       "      <th>tt0062336</th>\n",
       "      <td>1</td>\n",
       "      <td>0.0</td>\n",
       "      <td>/fw5tsNib4QZBEw18xmebpVe3WZ8.jpg</td>\n",
       "      <td>NaN</td>\n",
       "      <td>0.0</td>\n",
       "      <td>[{'id': 18, 'name': 'Drama'}, {'id': 14, 'name...</td>\n",
       "      <td>http://poetastros.com/el-tango-del-viudo/</td>\n",
       "      <td>602986.0</td>\n",
       "      <td>es</td>\n",
       "      <td>El tango del viudo y su espejo deformante</td>\n",
       "      <td>...</td>\n",
       "      <td>0.0</td>\n",
       "      <td>63.0</td>\n",
       "      <td>[{'english_name': 'Spanish', 'iso_639_1': 'es'...</td>\n",
       "      <td>Released</td>\n",
       "      <td>NaN</td>\n",
       "      <td>The Tango of the Widower and Its Distorting Mi...</td>\n",
       "      <td>0.0</td>\n",
       "      <td>5.300</td>\n",
       "      <td>3.0</td>\n",
       "      <td>NaN</td>\n",
       "    </tr>\n",
       "    <tr>\n",
       "      <th>tt0805647</th>\n",
       "      <td>2</td>\n",
       "      <td>0.0</td>\n",
       "      <td>/8rIoyM6zYXJNjzGseT3MRusMPWl.jpg</td>\n",
       "      <td>NaN</td>\n",
       "      <td>0.0</td>\n",
       "      <td>[{'id': 12, 'name': 'Adventure'}, {'id': 14, '...</td>\n",
       "      <td>https://www.thewitchesmovie.net/</td>\n",
       "      <td>531219.0</td>\n",
       "      <td>en</td>\n",
       "      <td>Roald Dahl's The Witches</td>\n",
       "      <td>...</td>\n",
       "      <td>26900000.0</td>\n",
       "      <td>106.0</td>\n",
       "      <td>[{'english_name': 'English', 'iso_639_1': 'en'...</td>\n",
       "      <td>Released</td>\n",
       "      <td>They're real!</td>\n",
       "      <td>Roald Dahl's The Witches</td>\n",
       "      <td>0.0</td>\n",
       "      <td>6.435</td>\n",
       "      <td>2315.0</td>\n",
       "      <td>PG</td>\n",
       "    </tr>\n",
       "    <tr>\n",
       "      <th>tt0920462</th>\n",
       "      <td>3</td>\n",
       "      <td>0.0</td>\n",
       "      <td>/mwXmcrvjOJwzsJSuNEupjisXUt6.jpg</td>\n",
       "      <td>NaN</td>\n",
       "      <td>0.0</td>\n",
       "      <td>[{'id': 18, 'name': 'Drama'}]</td>\n",
       "      <td>https://www.lostgirlslovehotels.film</td>\n",
       "      <td>479259.0</td>\n",
       "      <td>en</td>\n",
       "      <td>Lost Girls &amp; Love Hotels</td>\n",
       "      <td>...</td>\n",
       "      <td>106045.0</td>\n",
       "      <td>97.0</td>\n",
       "      <td>[{'english_name': 'English', 'iso_639_1': 'en'...</td>\n",
       "      <td>Released</td>\n",
       "      <td>NaN</td>\n",
       "      <td>Lost Girls &amp; Love Hotels</td>\n",
       "      <td>0.0</td>\n",
       "      <td>5.219</td>\n",
       "      <td>121.0</td>\n",
       "      <td>R</td>\n",
       "    </tr>\n",
       "    <tr>\n",
       "      <th>tt0926132</th>\n",
       "      <td>4</td>\n",
       "      <td>0.0</td>\n",
       "      <td>/op14w44FvLUqH7TWyT1ijzrSfXV.jpg</td>\n",
       "      <td>NaN</td>\n",
       "      <td>0.0</td>\n",
       "      <td>[{'id': 27, 'name': 'Horror'}]</td>\n",
       "      <td>http://www.roadtored.com</td>\n",
       "      <td>651448.0</td>\n",
       "      <td>en</td>\n",
       "      <td>Darkslide</td>\n",
       "      <td>...</td>\n",
       "      <td>0.0</td>\n",
       "      <td>121.0</td>\n",
       "      <td>[{'english_name': 'English', 'iso_639_1': 'en'...</td>\n",
       "      <td>Released</td>\n",
       "      <td>Keep Moving or Die</td>\n",
       "      <td>Darkslide</td>\n",
       "      <td>0.0</td>\n",
       "      <td>6.500</td>\n",
       "      <td>2.0</td>\n",
       "      <td>NaN</td>\n",
       "    </tr>\n",
       "  </tbody>\n",
       "</table>\n",
       "<p>5 rows × 26 columns</p>\n",
       "</div>"
      ],
      "text/plain": [
       "           Unnamed: 0  adult                     backdrop_path  \\\n",
       "imdb_id                                                          \n",
       "0                   0    NaN                               NaN   \n",
       "tt0062336           1    0.0  /fw5tsNib4QZBEw18xmebpVe3WZ8.jpg   \n",
       "tt0805647           2    0.0  /8rIoyM6zYXJNjzGseT3MRusMPWl.jpg   \n",
       "tt0920462           3    0.0  /mwXmcrvjOJwzsJSuNEupjisXUt6.jpg   \n",
       "tt0926132           4    0.0  /op14w44FvLUqH7TWyT1ijzrSfXV.jpg   \n",
       "\n",
       "          belongs_to_collection budget  \\\n",
       "imdb_id                                  \n",
       "0                           NaN    NaN   \n",
       "tt0062336                   NaN    0.0   \n",
       "tt0805647                   NaN    0.0   \n",
       "tt0920462                   NaN    0.0   \n",
       "tt0926132                   NaN    0.0   \n",
       "\n",
       "                                                      genres  \\\n",
       "imdb_id                                                        \n",
       "0                                                        NaN   \n",
       "tt0062336  [{'id': 18, 'name': 'Drama'}, {'id': 14, 'name...   \n",
       "tt0805647  [{'id': 12, 'name': 'Adventure'}, {'id': 14, '...   \n",
       "tt0920462                      [{'id': 18, 'name': 'Drama'}]   \n",
       "tt0926132                     [{'id': 27, 'name': 'Horror'}]   \n",
       "\n",
       "                                            homepage        id  \\\n",
       "imdb_id                                                          \n",
       "0                                                NaN       NaN   \n",
       "tt0062336  http://poetastros.com/el-tango-del-viudo/  602986.0   \n",
       "tt0805647           https://www.thewitchesmovie.net/  531219.0   \n",
       "tt0920462       https://www.lostgirlslovehotels.film  479259.0   \n",
       "tt0926132                   http://www.roadtored.com  651448.0   \n",
       "\n",
       "          original_language                             original_title  ...  \\\n",
       "imdb_id                                                                 ...   \n",
       "0                       NaN                                        NaN  ...   \n",
       "tt0062336                es  El tango del viudo y su espejo deformante  ...   \n",
       "tt0805647                en                   Roald Dahl's The Witches  ...   \n",
       "tt0920462                en                   Lost Girls & Love Hotels  ...   \n",
       "tt0926132                en                                  Darkslide  ...   \n",
       "\n",
       "              revenue runtime  \\\n",
       "imdb_id                         \n",
       "0                 NaN     NaN   \n",
       "tt0062336         0.0    63.0   \n",
       "tt0805647  26900000.0   106.0   \n",
       "tt0920462    106045.0    97.0   \n",
       "tt0926132         0.0   121.0   \n",
       "\n",
       "                                            spoken_languages    status  \\\n",
       "imdb_id                                                                  \n",
       "0                                                        NaN       NaN   \n",
       "tt0062336  [{'english_name': 'Spanish', 'iso_639_1': 'es'...  Released   \n",
       "tt0805647  [{'english_name': 'English', 'iso_639_1': 'en'...  Released   \n",
       "tt0920462  [{'english_name': 'English', 'iso_639_1': 'en'...  Released   \n",
       "tt0926132  [{'english_name': 'English', 'iso_639_1': 'en'...  Released   \n",
       "\n",
       "                      tagline  \\\n",
       "imdb_id                         \n",
       "0                         NaN   \n",
       "tt0062336                 NaN   \n",
       "tt0805647       They're real!   \n",
       "tt0920462                 NaN   \n",
       "tt0926132  Keep Moving or Die   \n",
       "\n",
       "                                                       title  video  \\\n",
       "imdb_id                                                               \n",
       "0                                                        NaN    NaN   \n",
       "tt0062336  The Tango of the Widower and Its Distorting Mi...    0.0   \n",
       "tt0805647                           Roald Dahl's The Witches    0.0   \n",
       "tt0920462                           Lost Girls & Love Hotels    0.0   \n",
       "tt0926132                                          Darkslide    0.0   \n",
       "\n",
       "           vote_average vote_count certification  \n",
       "imdb_id                                           \n",
       "0                   NaN        NaN           NaN  \n",
       "tt0062336         5.300        3.0           NaN  \n",
       "tt0805647         6.435     2315.0            PG  \n",
       "tt0920462         5.219      121.0             R  \n",
       "tt0926132         6.500        2.0           NaN  \n",
       "\n",
       "[5 rows x 26 columns]"
      ]
     },
     "execution_count": 11,
     "metadata": {},
     "output_type": "execute_result"
    }
   ],
   "source": [
    "# Load the data\n",
    "df = pd.read_csv('Data/tmdb_results_combined.csv.gz', index_col = 'imdb_id')\n",
    "df.head()"
   ]
  },
  {
   "cell_type": "markdown",
   "id": "b33ee105",
   "metadata": {},
   "source": [
    "# Data Cleaning"
   ]
  },
  {
   "cell_type": "code",
   "execution_count": 15,
   "id": "be471ecc",
   "metadata": {},
   "outputs": [
    {
     "data": {
      "text/html": [
       "<div>\n",
       "<style scoped>\n",
       "    .dataframe tbody tr th:only-of-type {\n",
       "        vertical-align: middle;\n",
       "    }\n",
       "\n",
       "    .dataframe tbody tr th {\n",
       "        vertical-align: top;\n",
       "    }\n",
       "\n",
       "    .dataframe thead th {\n",
       "        text-align: right;\n",
       "    }\n",
       "</style>\n",
       "<table border=\"1\" class=\"dataframe\">\n",
       "  <thead>\n",
       "    <tr style=\"text-align: right;\">\n",
       "      <th></th>\n",
       "      <th>budget</th>\n",
       "      <th>revenue</th>\n",
       "      <th>certification</th>\n",
       "    </tr>\n",
       "    <tr>\n",
       "      <th>imdb_id</th>\n",
       "      <th></th>\n",
       "      <th></th>\n",
       "      <th></th>\n",
       "    </tr>\n",
       "  </thead>\n",
       "  <tbody>\n",
       "    <tr>\n",
       "      <th>0</th>\n",
       "      <td>NaN</td>\n",
       "      <td>NaN</td>\n",
       "      <td>NaN</td>\n",
       "    </tr>\n",
       "    <tr>\n",
       "      <th>tt0062336</th>\n",
       "      <td>0.0</td>\n",
       "      <td>0.0</td>\n",
       "      <td>NaN</td>\n",
       "    </tr>\n",
       "    <tr>\n",
       "      <th>tt0805647</th>\n",
       "      <td>0.0</td>\n",
       "      <td>26900000.0</td>\n",
       "      <td>PG</td>\n",
       "    </tr>\n",
       "    <tr>\n",
       "      <th>tt0920462</th>\n",
       "      <td>0.0</td>\n",
       "      <td>106045.0</td>\n",
       "      <td>R</td>\n",
       "    </tr>\n",
       "    <tr>\n",
       "      <th>tt0926132</th>\n",
       "      <td>0.0</td>\n",
       "      <td>0.0</td>\n",
       "      <td>NaN</td>\n",
       "    </tr>\n",
       "  </tbody>\n",
       "</table>\n",
       "</div>"
      ],
      "text/plain": [
       "          budget     revenue certification\n",
       "imdb_id                                   \n",
       "0            NaN         NaN           NaN\n",
       "tt0062336    0.0         0.0           NaN\n",
       "tt0805647    0.0  26900000.0            PG\n",
       "tt0920462    0.0    106045.0             R\n",
       "tt0926132    0.0         0.0           NaN"
      ]
     },
     "execution_count": 15,
     "metadata": {},
     "output_type": "execute_result"
    }
   ],
   "source": [
    "# We will only be using budget, revenue, and certification for this model\n",
    "df = df[['budget', 'revenue', 'certification']]\n",
    "df.head()"
   ]
  },
  {
   "cell_type": "code",
   "execution_count": 17,
   "id": "6be34ac2",
   "metadata": {},
   "outputs": [
    {
     "data": {
      "text/plain": [
       "0"
      ]
     },
     "execution_count": 17,
     "metadata": {},
     "output_type": "execute_result"
    }
   ],
   "source": [
    "# Remove any duplicates\n",
    "df.drop_duplicates(inplace = True)\n",
    "df.duplicated().sum()"
   ]
  },
  {
   "cell_type": "code",
   "execution_count": 18,
   "id": "ecd4ce67",
   "metadata": {},
   "outputs": [
    {
     "data": {
      "text/plain": [
       "budget              1\n",
       "revenue             8\n",
       "certification    3325\n",
       "dtype: int64"
      ]
     },
     "execution_count": 18,
     "metadata": {},
     "output_type": "execute_result"
    }
   ],
   "source": [
    "# Check for null values\n",
    "df.isna().sum()"
   ]
  },
  {
   "cell_type": "code",
   "execution_count": 22,
   "id": "ff8dd81d",
   "metadata": {},
   "outputs": [
    {
     "name": "stdout",
     "output_type": "stream",
     "text": [
      "0.0008646779074794639\n"
     ]
    }
   ],
   "source": [
    "# We will drop the null values in the budget column\n",
    "print(df['revenue'].isna().sum() / df.shape[0])\n",
    "df.dropna(subset = 'revenue', inplace = True)"
   ]
  },
  {
   "cell_type": "code",
   "execution_count": 61,
   "id": "1a7d63be",
   "metadata": {},
   "outputs": [
    {
     "data": {
      "text/plain": [
       "R                                  2617\n",
       "PG-13                              1897\n",
       "PG                                  738\n",
       "NR                                  475\n",
       "G                                   161\n",
       "NC-17                                36\n",
       "10                                    1\n",
       "ScreamFest Horror Film Festival       1\n",
       "-                                     1\n",
       "Name: certification, dtype: int64"
      ]
     },
     "execution_count": 61,
     "metadata": {},
     "output_type": "execute_result"
    }
   ],
   "source": [
    "# Check the certification column\n",
    "df['certification'].value_counts()"
   ]
  },
  {
   "cell_type": "code",
   "execution_count": 47,
   "id": "07b94af0",
   "metadata": {},
   "outputs": [],
   "source": [
    "# Fix the unrated labels\n",
    "df['certification'].replace({'Not Rated': 'NR', \n",
    "                             'Unrated': 'NR'},\n",
    "                            inplace = True)\n"
   ]
  },
  {
   "cell_type": "code",
   "execution_count": 42,
   "id": "3fddcf8c",
   "metadata": {},
   "outputs": [
    {
     "name": "stdout",
     "output_type": "stream",
     "text": [
      "1\n",
      "1\n"
     ]
    }
   ],
   "source": [
    "# Find the issue with R and PG-13 movies\n",
    "print(df['certification'].str.contains('PG-13 ').sum())\n",
    "print(df['certification'].str.contains('R ').sum())"
   ]
  },
  {
   "cell_type": "code",
   "execution_count": 45,
   "id": "e8e3f778",
   "metadata": {},
   "outputs": [],
   "source": [
    "# Fix the ratings with an extra space\n",
    "df.replace({'PG-13 ': 'PG-13','R ': 'R'}, inplace = True)"
   ]
  },
  {
   "cell_type": "code",
   "execution_count": 62,
   "id": "bce812e2",
   "metadata": {},
   "outputs": [
    {
     "data": {
      "text/plain": [
       "imdb_id\n",
       "tt0062336       NaN\n",
       "tt0805647     False\n",
       "tt0920462     False\n",
       "tt0983946     False\n",
       "tt10003008    False\n",
       "              ...  \n",
       "tt0310149       NaN\n",
       "tt0310790       NaN\n",
       "tt0322645     False\n",
       "tt0354981       NaN\n",
       "tt0445841       NaN\n",
       "Name: certification, Length: 9244, dtype: object"
      ]
     },
     "execution_count": 62,
     "metadata": {},
     "output_type": "execute_result"
    }
   ],
   "source": [
    "# Drop the values in certification that don't seem to make sense\n",
    "df['certification'].str.contains('10')"
   ]
  }
 ],
 "metadata": {
  "kernelspec": {
   "display_name": "Python (dojo-env)",
   "language": "python",
   "name": "dojo-env"
  },
  "language_info": {
   "codemirror_mode": {
    "name": "ipython",
    "version": 3
   },
   "file_extension": ".py",
   "mimetype": "text/x-python",
   "name": "python",
   "nbconvert_exporter": "python",
   "pygments_lexer": "ipython3",
   "version": "3.8.13"
  },
  "toc": {
   "base_numbering": 1,
   "nav_menu": {},
   "number_sections": false,
   "sideBar": true,
   "skip_h1_title": false,
   "title_cell": "Table of Contents",
   "title_sidebar": "Contents",
   "toc_cell": false,
   "toc_position": {},
   "toc_section_display": true,
   "toc_window_display": false
  }
 },
 "nbformat": 4,
 "nbformat_minor": 5
}
