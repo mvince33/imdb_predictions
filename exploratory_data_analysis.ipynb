{
 "cells": [
  {
   "cell_type": "markdown",
   "id": "fb7daee7",
   "metadata": {},
   "source": [
    "# Exploratory Data Analysis\n",
    "- Michael Vincent\n",
    "- 9/20"
   ]
  },
  {
   "cell_type": "markdown",
   "id": "3a00d122",
   "metadata": {},
   "source": [
    "## Imports"
   ]
  },
  {
   "cell_type": "code",
   "execution_count": 2,
   "id": "ac9a410a",
   "metadata": {},
   "outputs": [],
   "source": [
    "# Imports\n",
    "import numpy as np\n",
    "import pandas as pd"
   ]
  },
  {
   "cell_type": "markdown",
   "id": "7b89da5a",
   "metadata": {},
   "source": [
    "## Load the data"
   ]
  },
  {
   "cell_type": "code",
   "execution_count": 3,
   "id": "26faaa32",
   "metadata": {},
   "outputs": [],
   "source": [
    "# Load the data frames\n",
    "df_2000 = pd.read_csv('Data/final_tmdb_data_2000.csv.gz', index_col = 'imdb_id')\n",
    "df_2001 = pd.read_csv('Data/final_tmdb_data_2001.csv.gz', index_col = 'imdb_id')\n",
    "\n",
    "# Concatenate the data frames into one data frame\n",
    "df = pd.concat([df_2000, df_2001], axis = 0)\n",
    "df.head()\n",
    "\n",
    "# Save the joined data frames\n",
    "df.to_csv('Data/tmdb_results_combined.csv.gz',\n",
    "          compression = 'gzip',\n",
    "          index = False)"
   ]
  },
  {
   "cell_type": "code",
   "execution_count": 3,
   "id": "7c5226bb",
   "metadata": {},
   "outputs": [],
   "source": [
    "# The first row is an artifact from the JSON file, so we drop it.\n",
    "df.drop(['0'], inplace = True)"
   ]
  },
  {
   "cell_type": "markdown",
   "id": "2c3fa796",
   "metadata": {},
   "source": [
    "## Data analysis"
   ]
  },
  {
   "cell_type": "code",
   "execution_count": 4,
   "id": "c8e0c019",
   "metadata": {},
   "outputs": [
    {
     "name": "stdout",
     "output_type": "stream",
     "text": [
      "There are 349 movies with some valid financial information.\n"
     ]
    }
   ],
   "source": [
    "# Find the number of movies with some valid financial information\n",
    "filter = (df['budget'] > 0) & (df['revenue'] > 0)\n",
    "print('There are', len(df[filter]), \n",
    "      'movies with some valid financial information.')"
   ]
  },
  {
   "cell_type": "code",
   "execution_count": 6,
   "id": "88d8b1b2",
   "metadata": {},
   "outputs": [
    {
     "data": {
      "text/plain": [
       "R          452\n",
       "PG-13      181\n",
       "NR          66\n",
       "PG          64\n",
       "G           24\n",
       "NC-17        6\n",
       "Unrated      1\n",
       "-            1\n",
       "Name: certification, dtype: int64"
      ]
     },
     "execution_count": 6,
     "metadata": {},
     "output_type": "execute_result"
    }
   ],
   "source": [
    "# Find the number of movies with each rating.\n",
    "df['certification'].value_counts()"
   ]
  },
  {
   "cell_type": "code",
   "execution_count": 25,
   "id": "cab575db",
   "metadata": {},
   "outputs": [
    {
     "data": {
      "text/plain": [
       "certification\n",
       "PG-13      31231536.0\n",
       "PG         24597656.0\n",
       "G          23833333.0\n",
       "R           9998904.0\n",
       "NR          1622729.0\n",
       "-                 0.0\n",
       "NC-17             0.0\n",
       "Unrated           0.0\n",
       "Name: budget, dtype: float64"
      ]
     },
     "execution_count": 25,
     "metadata": {},
     "output_type": "execute_result"
    }
   ],
   "source": [
    "# Get the average budget by certification\n",
    "avg_budget = df.groupby('certification')['budget'].mean().round()\n",
    "avg_budget.sort_values(ascending = False)"
   ]
  },
  {
   "cell_type": "code",
   "execution_count": 26,
   "id": "1dfeb223",
   "metadata": {},
   "outputs": [
    {
     "data": {
      "text/plain": [
       "certification\n",
       "G          72163319.0\n",
       "PG-13      71608340.0\n",
       "PG         61435347.0\n",
       "R          16821129.0\n",
       "NR          2289235.0\n",
       "-                 0.0\n",
       "NC-17             0.0\n",
       "Unrated           0.0\n",
       "Name: revenue, dtype: float64"
      ]
     },
     "execution_count": 26,
     "metadata": {},
     "output_type": "execute_result"
    }
   ],
   "source": [
    "# Get the average revenue by certification\n",
    "avg_revenue = df.groupby('certification')['revenue'].mean().round()\n",
    "avg_revenue.sort_values(ascending = False)"
   ]
  }
 ],
 "metadata": {
  "kernelspec": {
   "display_name": "Python (dojo-env)",
   "language": "python",
   "name": "dojo-env"
  },
  "language_info": {
   "codemirror_mode": {
    "name": "ipython",
    "version": 3
   },
   "file_extension": ".py",
   "mimetype": "text/x-python",
   "name": "python",
   "nbconvert_exporter": "python",
   "pygments_lexer": "ipython3",
   "version": "3.8.13"
  },
  "toc": {
   "base_numbering": 1,
   "nav_menu": {},
   "number_sections": false,
   "sideBar": true,
   "skip_h1_title": false,
   "title_cell": "Table of Contents",
   "title_sidebar": "Contents",
   "toc_cell": false,
   "toc_position": {},
   "toc_section_display": true,
   "toc_window_display": false
  }
 },
 "nbformat": 4,
 "nbformat_minor": 5
}
